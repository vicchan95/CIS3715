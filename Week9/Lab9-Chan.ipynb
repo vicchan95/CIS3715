{
 "cells": [
  {
   "cell_type": "markdown",
   "metadata": {},
   "source": [
    "# Lab 9: Twitter data analysis  \n",
    "\n",
    "In this lab, we will learn how to read JSON files and how to perform exploratory analysis of twitter data. As an extra credit, you will learn how to use API to download tweets on the topic of your choice.\n",
    "\n",
    "Let us start by importing the needed packages."
   ]
  },
  {
   "cell_type": "code",
   "execution_count": 1,
   "metadata": {},
   "outputs": [],
   "source": [
    "import json\n",
    "import random\n",
    "import time\n",
    "import calendar\n",
    "import codecs\n",
    "import datetime\n",
    "import sys\n",
    "import gzip\n",
    "import string\n",
    "import glob\n",
    "import os\n",
    "import numpy as np\n",
    "import dateutil.parser"
   ]
  },
  {
   "cell_type": "markdown",
   "metadata": {},
   "source": [
    "## Module 0: Reading Tweets\n",
    "\n",
    "Tweets are saved in the form of a JSON file. Open `onetweet` file in a text editor and study how it looks. This file contains information from a single tweet. The file is written in the JSON format, which is easy for a computer to read and parse. \n",
    "\n",
    "**Question 1**. Google `JSON` and try to learn about this particular data format. Explain in one or two paragraphs what you learned.\n",
    "\n",
    "Let us read `onetweet` JSON file. We will create an object and print it."
   ]
  },
  {
   "cell_type": "markdown",
   "metadata": {},
   "source": [
    "**Answer 1:** <br>\n",
    "JSON, aka JavaScript Object Notation, is a type of data-interchange text format which makes things easier for human readability and computer parsing of the information. The information is stored as objects and within each object it is further stored as properties. The properties are stored in string syntax with the values being numerical or string values as well. These values can be called directly using the dot(.) format. Ex: objectname.property returns value stored in that property\n",
    "<br>\n",
    "If one would like to store more than one set of values "
   ]
  },
  {
   "cell_type": "code",
   "execution_count": 2,
   "metadata": {},
   "outputs": [
    {
     "name": "stdout",
     "output_type": "stream",
     "text": [
      "{'_id': '264230205529411585',\n",
      " 'contributors': None,\n",
      " 'coordinates': {'coordinates': [-73.95639896, 40.71411847], 'type': 'Point'},\n",
      " 'created_at': '2012-11-02T04:59:24',\n",
      " 'disaster': '2012_sandy_hurricane_en',\n",
      " 'entities': {'hashtags': [],\n",
      "              'symbols': [],\n",
      "              'urls': [{'display_url': 'instagr.am/p/Rg70o6xlkY/',\n",
      "                        'expanded_url': 'http://instagr.am/p/Rg70o6xlkY/',\n",
      "                        'indices': [33, 53],\n",
      "                        'url': 'http://t.co/G0LdsQAz'}],\n",
      "              'user_mentions': []},\n",
      " 'favorite_count': 0,\n",
      " 'favorited': False,\n",
      " 'geo': {'coordinates': [40.71411847, -73.95639896], 'type': 'Point'},\n",
      " 'id': '264230205529411585',\n",
      " 'id_str': '264230205529411585',\n",
      " 'in_reply_to_screen_name': None,\n",
      " 'in_reply_to_status_id': None,\n",
      " 'in_reply_to_status_id_str': None,\n",
      " 'in_reply_to_user_id': None,\n",
      " 'in_reply_to_user_id_str': None,\n",
      " 'is_quote_status': False,\n",
      " 'lang': 'en',\n",
      " 'place': {'attributes': {},\n",
      "           'bounding_box': {'coordinates': [[[-74.255641, 40.495865],\n",
      "                                             [-73.699793, 40.495865],\n",
      "                                             [-73.699793, 40.91533],\n",
      "                                             [-74.255641, 40.91533]]],\n",
      "                            'type': 'Polygon'},\n",
      "           'contained_within': [],\n",
      "           'country': 'United States',\n",
      "           'country_code': 'US',\n",
      "           'full_name': 'New York, NY',\n",
      "           'id': '27485069891a7938',\n",
      "           'name': 'New York',\n",
      "           'place_type': 'admin',\n",
      "           'url': 'https://api.twitter.com/1.1/geo/id/27485069891a7938.json'},\n",
      " 'possibly_sensitive': False,\n",
      " 'rand': 7,\n",
      " 'retweet_count': 0,\n",
      " 'retweeted': False,\n",
      " 'source': '<a href=\"http://instagram.com\" rel=\"nofollow\">Instagram</a>',\n",
      " 'text': 'Beer out of jam jars @ Fette Sau http://t.co/G0LdsQAz',\n",
      " 'truncated': False,\n",
      " 'user': {'contributors_enabled': False,\n",
      "          'created_at': 'Wed Mar 04 15:32:47 +0000 2009',\n",
      "          'default_profile': False,\n",
      "          'default_profile_image': False,\n",
      "          'description': 'Film \\\\ Visuals \\\\ Writing & Khaleesi at Empyreal',\n",
      "          'entities': {'description': {'urls': []}},\n",
      "          'favourites_count': 233,\n",
      "          'follow_request_sent': False,\n",
      "          'followers_count': 334,\n",
      "          'following': False,\n",
      "          'friends_count': 256,\n",
      "          'geo_enabled': True,\n",
      "          'has_extended_profile': False,\n",
      "          'id': 22787354,\n",
      "          'id_str': '22787354',\n",
      "          'is_translation_enabled': False,\n",
      "          'is_translator': False,\n",
      "          'lang': 'en',\n",
      "          'listed_count': 12,\n",
      "          'location': 'Singapore',\n",
      "          'name': 'Amanda Tan',\n",
      "          'notifications': False,\n",
      "          'profile_background_color': 'A68B7C',\n",
      "          'profile_background_image_url': 'http://pbs.twimg.com/profile_background_images/564991220/dawngardnermusings.jpg',\n",
      "          'profile_background_image_url_https': 'https://pbs.twimg.com/profile_background_images/564991220/dawngardnermusings.jpg',\n",
      "          'profile_background_tile': True,\n",
      "          'profile_banner_url': 'https://pbs.twimg.com/profile_banners/22787354/1455037471',\n",
      "          'profile_image_url': 'http://pbs.twimg.com/profile_images/622537107089698820/enfaO8Ok_normal.jpg',\n",
      "          'profile_image_url_https': 'https://pbs.twimg.com/profile_images/622537107089698820/enfaO8Ok_normal.jpg',\n",
      "          'profile_link_color': 'A68B7C',\n",
      "          'profile_sidebar_border_color': 'FFFFFF',\n",
      "          'profile_sidebar_fill_color': '874C67',\n",
      "          'profile_text_color': '000000',\n",
      "          'profile_use_background_image': True,\n",
      "          'protected': False,\n",
      "          'screen_name': 'amanda_tan',\n",
      "          'statuses_count': 7281,\n",
      "          'time_zone': 'Singapore',\n",
      "          'url': None,\n",
      "          'utc_offset': 28800,\n",
      "          'verified': False}}\n"
     ]
    }
   ],
   "source": [
    "from pprint import pprint\n",
    "tweet = json.load(open('onetweet', 'rb'))\n",
    "pprint (tweet)"
   ]
  },
  {
   "cell_type": "markdown",
   "metadata": {},
   "source": [
    "As we can see, each tweet is stored in a dictionary. Although there are more than 20 different keys in the dictionary, we introduce the most important fields which will be used in the rest of this lab.\n",
    "<ul>\n",
    "<li>'_id': shows the unique id of this tweet.</li>\n",
    "\n",
    "<li>'coordinates': shows the location from which the tweet was posted. The field might be null if the tweet contains no location data, or it could contain bounding box information, place information, or GPS coordinates in the form of (longitude, latitude). </li>\n",
    "\n",
    "<li>'created_at': shows the time the tweet has been created.</li>\n",
    "\n",
    "<li>'text': shows the text of the tweet.</li>\n",
    "\n",
    "<li>'user': contains multiple dictionaries describing the user, including the name of this user, the number of followers, the number of friends...</li>\n",
    "</ul>\n",
    "\n",
    "**Question 2**. Explain 3 more keys that you find interesting"
   ]
  },
  {
   "cell_type": "markdown",
   "metadata": {},
   "source": [
    "**Answer 2:**\n",
    "1. 'entities': provides information regarding the metadata of the tweet, such as hashtags added, user mentions, and any url links added.\n",
    "2. 'retweeted_count': returns the number of times this tweet has been retweeted (which is 0 in this case T.T)\n",
    "3. 'source': refers to how the tweet was posted. In our case the photo was originally from Instagram."
   ]
  },
  {
   "cell_type": "markdown",
   "metadata": {},
   "source": [
    "In the following code we will load around 4,000 tweets sent from New York City region during Sandy Hurricane from a JSON file `smallNYC.json`. As part of this process, we will extract each tweet's post time and create a time series of the number of tweets in each hour during the event."
   ]
  },
  {
   "cell_type": "code",
   "execution_count": 3,
   "metadata": {},
   "outputs": [
    {
     "name": "stdout",
     "output_type": "stream",
     "text": [
      "Processed Tweet Count: 4295\n"
     ]
    }
   ],
   "source": [
    "filePath='smallNYC.json'\n",
    "localTweetList = []\n",
    "globalTweetCounter = 0\n",
    "frequencyMap = {}\n",
    "timeFormat = \"%a %b %d %H:%M:%S +0000 %Y\"\n",
    "reader = codecs.getreader(\"utf-8\")\n",
    "for line in open(filePath, 'rb'):\n",
    "    # Try to read tweet JSON into object\n",
    "    tweetObj = None\n",
    "    tweetObj = json.loads(reader.decode(line)[0])\n",
    "    \n",
    "    # Try to extract the time of the tweet\n",
    "    currentTime=dateutil.parser.parse(tweetObj['created_at'])\n",
    "    currentTime = currentTime.replace(second=0)\n",
    "    currentTime = currentTime.replace(minute=0)\n",
    "\n",
    "    #print currentTime\n",
    "    # Increment tweet count\n",
    "    globalTweetCounter += 1\n",
    "    \n",
    "    # If our frequency map already has this time, use it, otherwise add\n",
    "    if ( currentTime in frequencyMap.keys() ):\n",
    "        timeMap = frequencyMap[currentTime]\n",
    "        timeMap[\"count\"] += 1\n",
    "        timeMap[\"list\"].append(tweetObj)\n",
    "    else:\n",
    "        frequencyMap[currentTime] = {\"count\":1, \"list\":[tweetObj]}\n",
    "\n",
    "# Fill in any gaps\n",
    "times = sorted(frequencyMap.keys())\n",
    "firstTime = times[0]\n",
    "lastTime = times[-1]\n",
    "thisTime = firstTime\n",
    "\n",
    "#timeIntervalStep = datetime.timedelta(0, 60)    # Time step in seconds\n",
    "timeIntervalStep = datetime.timedelta(hours=1)\n",
    "while ( thisTime <= lastTime ):\n",
    "    if ( thisTime not in frequencyMap.keys() ):\n",
    "        frequencyMap[thisTime] = {\"count\":0, \"list\":[]}\n",
    "        \n",
    "    thisTime = thisTime + timeIntervalStep\n",
    "\n",
    "print (\"Processed Tweet Count:\", globalTweetCounter)"
   ]
  },
  {
   "cell_type": "markdown",
   "metadata": {},
   "source": [
    "## Module 1: Simple Frequency Analysis\n",
    "\n",
    "In this section, we will cover a few simple analysis techniques for EDA of the available twitter datay.\n",
    "\n",
    "- Twitter Timeline\n",
    "- Top Twitter Users\n",
    "- Twitter API\n",
    "- Posting Frequency Distribution\n",
    "- Popular Hashtags\n",
    "- Simple Event Detection\n",
    "- Language Distributions\n",
    "\n",
    "### Twitter Timeline \n",
    "\n",
    "To build a timeline of Twitter usage, we can simply plot the number of tweets posted per hour."
   ]
  },
  {
   "cell_type": "code",
   "execution_count": 14,
   "metadata": {},
   "outputs": [
    {
     "name": "stdout",
     "output_type": "stream",
     "text": [
      "Time Frame: 2012-10-22 05:00:00 2012-11-02 04:00:00\n"
     ]
    },
    {
     "data": {
      "text/plain": [
       "<Figure size 432x288 with 0 Axes>"
      ]
     },
     "execution_count": 14,
     "metadata": {},
     "output_type": "execute_result"
    },
    {
     "data": {
      "image/png": "[encoded data removed]",
      "text/plain": [
       "<Figure size 1332x756 with 1 Axes>"
      ]
     },
     "metadata": {
      "needs_background": "light"
     },
     "output_type": "display_data"
    },
    {
     "data": {
      "text/plain": [
       "<Figure size 432x288 with 0 Axes>"
      ]
     },
     "metadata": {},
     "output_type": "display_data"
    }
   ],
   "source": [
    "import matplotlib.pyplot as plt\n",
    "\n",
    "fig, ax = plt.subplots()\n",
    "fig.set_size_inches(18.5,10.5)\n",
    "\n",
    "plt.title(\"Tweet Frequency\")\n",
    "\n",
    "# Sort the times into an array for future use\n",
    "sortedTimes = sorted(frequencyMap.keys())\n",
    "\n",
    "# What time span do these tweets cover?\n",
    "print (\"Time Frame:\", sortedTimes[0], sortedTimes[-1])\n",
    "\n",
    "# Get a count of tweets per minute\n",
    "postFreqList = [frequencyMap[x][\"count\"] for x in sortedTimes]\n",
    "\n",
    "# We'll have ticks every thirty minutes (much more clutters the graph)\n",
    "smallerXTicks = range(0, len(sortedTimes), 6)\n",
    "plt.xticks(smallerXTicks, [sortedTimes[x] for x in smallerXTicks], rotation=90)\n",
    "\n",
    "# Plot the post frequency\n",
    "ax.plot(range(len(frequencyMap)), [x if x > 0 else 0 for x in postFreqList], color=\"blue\", label=\"Posts\")\n",
    "ax.grid(b=True, which=u'major')\n",
    "ax.legend()\n",
    "plt.figure()"
   ]
  },
  {
   "cell_type": "markdown",
   "metadata": {},
   "source": [
    "**Question 3**. When is the tweeting activity the largest? Find a wikipedia article about the Sandy Hurricane to understand the timeline of events surrounding it. Discuss if you see a correlation with the tweet frequencies. Select some tweets from different time points and see if the messages are correlated with the events on the ground."
   ]
  },
  {
   "cell_type": "code",
   "execution_count": 5,
   "metadata": {},
   "outputs": [
    {
     "name": "stdout",
     "output_type": "stream",
     "text": [
      "@bpacris power and Internet. Text if you need to come this way.\n",
      "@aviggz so does mine she keeps saying its the end of the world\n",
      "No candles? Nbd. I guess it's time to crack some glow sticks and play edm Muahahahhaha\n",
      "Carro sendo resgatado no alagamento. #Sandy http://t.co/UgW1it4n\n",
      "Rain then wind = free car wash. Thanks Sandy!\n",
      "@crisstyram @reymysterio Hell Yeah! As soon as Sandy GTFO then I go to @GameStop and pick up my preordered #WWE13\n",
      "I'm at Frankenstorm Apocalypse - Hurricane Sandy w/ @beaniev [pic]: http://t.co/NMkrbayF\n",
      "@DeAngelo_Gina You're welcome!\n",
      "My house just violently shook\n",
      "Ok, it's official. The power went out. Great.\n",
      "I'm at Frankenstorm Apocalypse - Hurricane Sandy (New York, NY) w/ 2947 others http://t.co/JttkVoRJ\n",
      "Thats not fair sam has power and i dont .-.\n",
      "Lmao dead! RT\"@LuztotheMary: I'm gonna go to school on Wednesday looking like a cow, and I'm not talking Halloween costume.\"\n",
      "I wanna go outside for some reason lol let me just chill lol\n",
      "I'm locked up, they won't let me out. #sandy\n",
      "@Maxgschneider I'm starting to get really nervous :( plz send virtual hugs n kisses :(\n",
      "Partes del west side de Manhattan están a oscuras. El vecindario donde se ubica @NY1noticias es un pueblo fantasma #NY1Sandy #Sandy\n",
      "http://t.co/7XZGjnPm\n",
      "And power it's down in the LES.\n",
      "Jenny Humphrey 😠 #smh\n",
      "Photo of flooding in New Jersey and look, it's a shark!!!! Shit is getting real- Shark Wee @ Hurricane Sandy http://t.co/lsvwN3ga\n",
      "@mattkenig Thought the same thing. Genius.\n",
      "#blackout\n",
      "@jloaiza13 awww lmao\n",
      "“@pedrorva: #Sandy Here's a picture from a lower level #NYC http://t.co/pohWFhOQ” this is exactly what Perry st looks like by west st\n",
      "@L0VELyy_V DM # ?\n",
      "This is really freaking me out\n",
      "Wtc now black. #sandy\n",
      "“@hurricannesandy: OH SHIT MY DRUNK ASS JUST TRIPPED OVER SUM WIRE AND KNOCKED DA POWER OUT”\n",
      "In 23 years, I don't think I've ever seen anything like this. #hurricane #sandy #sandyisabitch\n",
      "@JessieJ thank you Jessie &lt;3\n",
      "Ughhhh I need to see Silver Lining Playbook because Bradley Cooper 😍\n",
      "@iSlaptits u ok?\n",
      "@SedonaMarie i can't take it any longer...\n",
      "“@nico_grau: @schiuster si la cosa se pone muy mala nos mandamos un \"q cante la vida\" por skype, pa subir la moral.”hangout masivo en gtalk\n",
      "@DjPaintRD yooooo?\n",
      "@eva_kayleen aliens!!!!!\n",
      "Walked down to E 74th ConEd plant. The East River is flooding the Northeast corner of the plant. Pumping water. #Sandy http://t.co/i7YgLB9Q\n",
      "Elevators are out! Thinnest city in America becomes 👌 that much closer to a fu @ George Washington Residence http://t.co/dkkYR48h\n",
      "@ralphieaversa my friend has received those as well\n",
      "Через 10 минут Блумберг проведет брифинг с последними новостями об урагане #Сэнди.\n",
      "Tasha came like 4 days before the show was over lmfao foh\n",
      "@ILoveNozawana そう。さっき停電した。\n",
      "Ummmmm im watchin jim &amp; chrissy and i cnt figure out why this PRican chick Talia wearin a lace front #confusedface\n",
      "BGC cbk shout out to… @laneyalenhart @alishiamsarabia @shamekazsmassey @margitylnfrank really nice of you\n",
      "BGC cbk shout out to… @laneyalenhart @alishiamsarabia @shamekazsmassey @margitylnfrank really nice of you\n",
      "Manhattan bridge is closed, lights are off in lower Manhattan thanks to #sandy  @ 100 Jay St http://t.co/7dxKSltb\n",
      "I actually just want to be with you right now lol\n",
      "@c0nfring0 Shut up, you dont want no god danm boyfriend\n",
      "@danieljbaird thanks Daniel. No issues so far. Just strong winds and some flooding.\n",
      "@FINALLEVEL yes! Same here\n"
     ]
    }
   ],
   "source": [
    "#for i in frequencyMap[datetime.datetime(2012, 10, 23, 2, 0)]['list']:\n",
    "#    print(i['text'])\n",
    "\n",
    "#print()\n",
    "#for i in frequencyMap[datetime.datetime(2012, 10, 25, 23, 0)]['list']:\n",
    "#    print(i['text'])\n",
    "\n",
    "for i in frequencyMap[datetime.datetime(2012, 10, 30, 1, 0)]['list']:\n",
    "    print(i['text'])"
   ]
  },
  {
   "cell_type": "markdown",
   "metadata": {},
   "source": [
    "**Answer 3:** <br>\n",
    "Tweeting activity is largest between the times of October 29th, 2012, 11:00PM and October 30, 2012, 5:00AM. The hurricane hit land at Atlantic City, NJ, near NYC around Oct. 28th and 29th of that year, hence why there was a spike in the amount of tweets. Probably either about the storm itself, finding shelther, or people reporting to families that they are safe. On the same day of Oct. 28th, the senator of NY also announced a state of emergency for the impending storm along with President Obama later that same day. It's understandable for spikes in tweeting on Oct. 22nd into 23rd as well since that is when the beginning signs of Sandy developing as a tropical wave began before updating to a Tropical Storm several hours later. Then on Oct. 24th it was reported as a legitimate hurricane.\n",
    "There was another slight spike on Oct. 25th when Sandy hit Cuba as a category 3 storm before lulling down to a category 1. From the rundown of events, it does seem there is a correlation in the tweet frequencies.\n",
    "<br>\n",
    "However, looking at the text messages of each tweet at the times prior to the moment Sandy hit NYC, they were all about personal events or miscellaneous messages. It wasn't until night time of October 29th/30th when the hurricane caused power outages and road closures throughout the city that people began tweeting about it. Also another note worth mentioning, in the previous spikes on Oct. 23rd and 25th, they were still classified under the key `'disaster'` even though they weren't exactly related to the event. Therefore, the misconception that these tweets could be related to Hurricane Sandy although their texts reveal otherwise."
   ]
  },
  {
   "cell_type": "markdown",
   "metadata": {},
   "source": [
    "### Top Twitter Users\n",
    "\n",
    "The following piece of code reveals the users that produced the most tweets. "
   ]
  },
  {
   "cell_type": "code",
   "execution_count": 6,
   "metadata": {},
   "outputs": [
    {
     "name": "stdout",
     "output_type": "stream",
     "text": [
      "Unique Users: 3042\n"
     ]
    }
   ],
   "source": [
    "# Create maps for holding counts and tweets for each user\n",
    "globalUserCounter = {}\n",
    "globalUserMap = {}\n",
    "\n",
    "# Iterate through the time stamps\n",
    "for t in sortedTimes:\n",
    "    timeObj = frequencyMap[t]\n",
    "    \n",
    "    # For each tweet, pull the screen name and add it to the list\n",
    "    for tweet in timeObj[\"list\"]:\n",
    "        user = tweet[\"user\"][\"screen_name\"]\n",
    "        \n",
    "        if ( user not in globalUserCounter ):\n",
    "            globalUserCounter[user] = 1\n",
    "            globalUserMap[user] = [tweet]\n",
    "        else:\n",
    "            globalUserCounter[user] += 1\n",
    "            globalUserMap[user].append(tweet)\n",
    "\n",
    "print (\"Unique Users:\", len(globalUserCounter.keys()))"
   ]
  },
  {
   "cell_type": "code",
   "execution_count": 7,
   "metadata": {},
   "outputs": [
    {
     "name": "stdout",
     "output_type": "stream",
     "text": [
      "Top Ten Most Prolific Users:\n",
      "Young_Boss718 37 \n",
      "\t Random Tweet: That random text  I had got be for LMFAO shit was funny \n",
      "----------\n",
      "frankieciv608 15 \n",
      "\t Random Tweet: “@JohnKincade Dear Donald Trump,\n",
      "Americans &amp; Republicans chose to not involve you in this election between Prez &amp; Romney.\n",
      "Please go away.” \n",
      "----------\n",
      "Cocky_Johnny 15 \n",
      "\t Random Tweet: @_tinaDeex3 LMAO #Dead \n",
      "----------\n",
      "labroides 14 \n",
      "\t Random Tweet: @SharkDevocean best of luck. That's awesome \n",
      "----------\n",
      "ReelTalker 12 \n",
      "\t Random Tweet: @FilmFatale_NYC also, in other news, i totally thought it was idris who tweeted me. Saw the pic and got  excited :-) \n",
      "----------\n",
      "Amooniac 11 \n",
      "\t Random Tweet: Je Hyper nul en Francais mais je sais qu'on ne dit pas le PLUS piire ! SEIGNEUR aidez moi a comprendre ce qui n'a pas marché ak @mhathe911 \n",
      "----------\n",
      "kcastrox3 11 \n",
      "\t Random Tweet: Cuz this love is a sure thing. \n",
      "----------\n",
      "carolsommers727 11 \n",
      "\t Random Tweet: @coreymach lookin spiffy 👌 \n",
      "----------\n",
      "_LizmaryA 11 \n",
      "\t Random Tweet: Hey hurricane sandy how you duriiiin 💁 \n",
      "----------\n",
      "TimaaaThooo 10 \n",
      "\t Random Tweet: @_BbySkoob # ? \n",
      "----------\n"
     ]
    }
   ],
   "source": [
    "sortedUsers = sorted(globalUserCounter, key=globalUserCounter.get, reverse=True)\n",
    "print (\"Top Ten Most Prolific Users:\")\n",
    "for u in sortedUsers[:10]:\n",
    "    print (u, globalUserCounter[u], \"\\n\\t\", \"Random Tweet:\", globalUserMap[u][0][\"text\"], \"\\n----------\")"
   ]
  },
  {
   "cell_type": "markdown",
   "metadata": {},
   "source": [
    "**Question 4**. Find and print the top 10 users with the most friends. Find and print the top 10 users with the most followers. "
   ]
  },
  {
   "cell_type": "code",
   "execution_count": 8,
   "metadata": {},
   "outputs": [
    {
     "name": "stdout",
     "output_type": "stream",
     "text": [
      "Top Ten Users with Most Friends:\n",
      "mstupenengo 49501 \n",
      "----------\n",
      "GinsburgJobs 49441 \n",
      "----------\n",
      "WeAreJocelyn 37969 \n",
      "----------\n",
      "MrThugZilla2K15 33902 \n",
      "----------\n",
      "davesurber 29221 \n",
      "----------\n",
      "55_althani 26416 \n",
      "----------\n",
      "EddieJMontanez 21663 \n",
      "----------\n",
      "andrewcotto 17312 \n",
      "----------\n",
      "MargaretMolloy 16958 \n",
      "----------\n",
      "tupaclivesss 11334 \n",
      "----------\n",
      "\n",
      "\n",
      "Top Ten Most Followed Users:\n",
      "mstupenengo 1162644 \n",
      "----------\n",
      "iJokes_ 185923 \n",
      "----------\n",
      "felixsalmon 164709 \n",
      "----------\n",
      "EmersonOverton 155045 \n",
      "----------\n",
      "umakhouny 126453 \n",
      "----------\n",
      "AgramyQ8 112323 \n",
      "----------\n",
      "55_althani 94191 \n",
      "----------\n",
      "QueensMuseum 80871 \n",
      "----------\n",
      "JosephWakile 73103 \n",
      "----------\n",
      "Majovargas_ 67256 \n",
      "----------\n"
     ]
    }
   ],
   "source": [
    "## Answer 4\n",
    "# create a global counter to store each user's friends_count and each user's followers_count\n",
    "globalFriendCount = {}\n",
    "globalFollowerCount = {}\n",
    "\n",
    "for user in globalUserMap.keys():   # iterate through each username within the keys\n",
    "    globalFriendCount[user] = 0\n",
    "    globalFollowerCount[user] = 0\n",
    "    tweetlist = globalUserMap[user]\n",
    "    \n",
    "    # For loop through all tweets to find whichever tweet has the record of most friends and followers for this user.\n",
    "    # I know it's not necessarily the \"up-to-date\" recorded number of followers hence not exactly accurate but\n",
    "    # my excuse is I've stopped caring about this trivial stuff and that's too complicated... so it works it works! \n",
    "    for tweet in tweetlist:\n",
    "        if(tweet['user']['friends_count']>globalFriendCount[user]):\n",
    "            globalFriendCount[user] = tweet['user']['friends_count']\n",
    "        if(tweet['user']['followers_count']>globalFollowerCount[user]):\n",
    "            globalFollowerCount[user] = tweet['user']['followers_count']\n",
    "\n",
    "# Sorting the friendcount dictionary and then printing out the top ten\n",
    "sortFriends = sorted(globalFriendCount, key=globalFriendCount.get, reverse=True)\n",
    "print (\"Top Ten Users with Most Friends:\")\n",
    "for u in sortFriends[:10]:\n",
    "    print (u, globalFriendCount[u], \"\\n----------\")\n",
    "\n",
    "print('\\n')\n",
    "\n",
    "# Sorting the followerscount dictionary\n",
    "sortFollowers = sorted(globalFollowerCount, key=globalFollowerCount.get, reverse=True)\n",
    "print (\"Top Ten Most Followed Users:\")\n",
    "for u in sortFollowers[:10]:\n",
    "    print (u, globalFollowerCount[u], \"\\n----------\")"
   ]
  },
  {
   "cell_type": "markdown",
   "metadata": {},
   "source": [
    "### Distribution of Postings\n",
    "\n",
    "It appears a few users were posting to Twitter a lot. But how often did most Twitter users tweet during this time? We can build a histogram to see this distribution.\n"
   ]
  },
  {
   "cell_type": "code",
   "execution_count": 9,
   "metadata": {},
   "outputs": [
    {
     "data": {
      "image/png": "[encoded data removed]",
      "text/plain": [
       "<Figure size 1152x576 with 1 Axes>"
      ]
     },
     "metadata": {
      "needs_background": "light"
     },
     "output_type": "display_data"
    }
   ],
   "source": [
    "plt.figure(figsize=(16,8))\n",
    "    \n",
    "# the histogram of the data\n",
    "plt.hist(\n",
    "    [globalUserCounter[x] for x in globalUserCounter], \n",
    "    bins=100, \n",
    "    density=0, \n",
    "    alpha=0.75,\n",
    "    label=\"Counts\",\n",
    "    log=True)\n",
    "\n",
    "plt.xlabel('Number of Tweets')\n",
    "plt.ylabel('Counts')\n",
    "plt.title(\"Histogram of Frequency\")\n",
    "plt.grid(True)\n",
    "plt.legend()\n",
    "\n",
    "plt.show()"
   ]
  },
  {
   "cell_type": "markdown",
   "metadata": {},
   "source": [
    "**Question 5**. Study 3 users with the most posts. What were they tweeting about?"
   ]
  },
  {
   "cell_type": "code",
   "execution_count": 10,
   "metadata": {},
   "outputs": [
    {
     "name": "stdout",
     "output_type": "stream",
     "text": [
      "Young_Boss718\n",
      "That random text  I had got be for LMFAO shit was funny\n",
      "@MeerGotGame don't try and find shit lol\n",
      "U inbox her on fb or text her\n",
      "That wax museum is a fool in New York shit be real af\n",
      "I kinda just felt when she just said idgaf lol\n",
      "We be on the loud shit\n",
      "Y'all be smoking that low volume\n",
      "@BossBitchShxt chill out Monae you know I fucks with fab lol\n",
      "I got my list tho 🙈🙉🙊\n",
      "@The_Good_Fella9 it's ok\n",
      "@NOFcks_Givn gave that head to ?\n",
      "PART2\n",
      "@The_Good_Fella9 word she's cool af\n",
      "i wonder who had crush on me on twitter 😜😝😛😵\n",
      "White girls don't have butts LMFAO\n",
      "@BricksFromPluto lol\n",
      "@SugarCocaine_ well I heard mad down south ppl say it that's why I ask\n",
      "Getting alil sleepy\n",
      "Moms gone for the whole night shit just about to smoke &amp; kick it with da homies\n",
      "@LiyahhDoeee I know that's not you in them heels and skirt\n",
      "@MikeyGotBudd I fucks with the mishka shirt fam\n",
      "@Loud_Everyday 💯 already know\n",
      "@She_Suckedd nigga shut up 😒\n",
      "The pic jaida just posted -_-\n",
      "No more talking, let’s be about it\n",
      "Sexcapade,\n",
      "Between them legs ?? Lol\n",
      "You picky to Brandon with your fat ass LMFAO\n",
      "I swear I hate Brandon dumb fat ass he always gotta say some shit\n",
      "U better bring your ass fat boy\n",
      "@Loud_Everyday LMFAO I feel you💯\n",
      "No sleep tonight\n",
      "Ummm Yoshi green\n",
      "I'm done with Yoshi for what she just said 😂😂😂😂😂😂😂😂😂😂😂\n",
      "“@oGxSteez: but i love my gf”\n",
      "Teachey know she got the hoes\n",
      "“@The_Good_Fella9: ahaaa she said she got cakee ^_^ i love the cake”\n",
      "Recording time 2marrow - pulling out the lack berry\n",
      "Not even trying to go to manhattan tho 😒\n",
      "\n",
      "---------------------\n",
      "frankieciv608\n",
      "“@JohnKincade Dear Donald Trump,\n",
      "Americans &amp; Republicans chose to not involve you in this election between Prez &amp; Romney.\n",
      "Please go away.”\n",
      "“@LibertarianCiti Gary Johnson Takes Lead in WVa Presidential Polls http://t.co/3z8lrikI”\n",
      "“@LOLGOP “@NationalMemo Have you trumped Trump yet? http://t.co/0bBD7fu0””\n",
      "“@Luvtittyandbbw2 #ThongThursday #ThickThursday #Thickass http://t.co/qqlh3S6J”\n",
      "“@HuffPostPol WATCH: Stephen Colbert's hilarious take on Fox News http://t.co/tUYQNgAu”\n",
      "“@HereIsMySpout Stop trying to turn rape into a joke. Everything is not to be comical.”\n",
      "wrappin up breakfast with the mum (@ Throgs Neck Extended Care) http://t.co/ZLLZYXnB\n",
      "“@washingtonpost Al-Qaida leader urges kidnapping of Westerners to exchange for jihadists http://t.co/69dObp50”\n",
      "“@FrankCaliendo SUNDAY:Approx. 12:15 est on @espn -My new segment on #NFLcountdown\n",
      "I'm at Home Sweet Home (until AtL) (Bronx, NY) http://t.co/JMN9lTxX\n",
      "Happy Sunday Part 6 http://t.co/pMINUUk6\n",
      "I moved South right after that Hurricane Bill\n",
      "@iamdiddy that is a fake picture genius\n",
      "“@MzBhavin4 #RappersBetterThanSouljaBoy The Free Credit report guy!!!”\n",
      "@SoffServe Morning Ms Soft\n",
      "\n",
      "---------------------\n",
      "Cocky_Johnny\n",
      "@_tinaDeex3 LMAO #Dead\n",
      "Im not jealous of the kids that have girlfriends at this school because most of the girls are ugly but sometime I wish I had one too. =/ Lol\n",
      "\"@__JustSaying__: @OhOhOhItsJoHnNy go in the hallway &amp; ask a girl if shes a girl. If she laughs take her out! (U have to be really serious)\"\n",
      "@christinelem_ LMAO\n",
      "One time I dreamed that some hot girl sent me naked pics and I woke up to a number I didn't know with hot pics of some girl... #WhatLuck LOL\n",
      "\"@chriistinedunne: I hope I can fall back asleeeeeep\" at least you were able to fall asleep... Lol\n",
      "\"@missmarchjr: I wanna be an undercover prostitute But like the high end kind &amp; arrest fuckers #blueballsandhandcuffs #kinky\" #IdHateYou lol\n",
      "\"@Rkocaj: @meagan0x idk everyone be saying whites for girls idk I still want white\" get white, you're getting the A4?\n",
      "\"@napoLetanaxo: Is it normal that when text with this kid, I get excited, Like really excited. 😳\" aw I feel the same when you text me! LOL\n",
      "One thing I can't stand seeing is my mother cry... if my grandmother cries it breaks my heart... You make them cry i'll kill you...\n",
      "\"@_tinaDeex3: @OhOhOhItsJoHnNy oh yea sorry about that :p\" its ok i'll try to finding in my heart to forgive you... ok ok #ImOverIt =p\n",
      "My mom made the most banging pasta ever too bad its cold... It still tastes amazing though... Love you mom!!!\n",
      "\"@krstinjaaax: I'm hungry and want a sandwich but I am so fucking lazy right now #someonebringmefood\" was hoping you'd make me one too lol\n",
      "\"@JackieG114: When people fuckin snore &lt;&lt;&lt;&lt; #biggestpetpeeve\" at least they aren't farting... Lol\n",
      "I love when girls with braces give me head... #Pause\n",
      "\n",
      "---------------------\n"
     ]
    }
   ],
   "source": [
    "topThree = sortedUsers[:3]\n",
    "for user in topThree:\n",
    "    tweetlist = globalUserMap[user]\n",
    "    print(user)\n",
    "    for tweet in tweetlist:\n",
    "        print(tweet['text'])\n",
    "    print('\\n---------------------')\n",
    "\n",
    "#   They were tweeting about dumb stuff, literally! These are either teens or people in their early twenties posting\n",
    "# about random things in their lives (cursing, sex, and nudes). Pretty much anything not related to Hurricane Sandy.\n",
    "# Occasionally the second most prolific user posted about politics (2012 election of Obama vs Romney)."
   ]
  },
  {
   "cell_type": "markdown",
   "metadata": {},
   "source": [
    "### Average Number of Posts"
   ]
  },
  {
   "cell_type": "code",
   "execution_count": 11,
   "metadata": {},
   "outputs": [
    {
     "name": "stdout",
     "output_type": "stream",
     "text": [
      "Average Number of Posts: 1.4119000657462195\n"
     ]
    }
   ],
   "source": [
    "avgPostCount = np.mean([globalUserCounter[x] for x in globalUserCounter])\n",
    "print(\"Average Number of Posts:\", avgPostCount)"
   ]
  },
  {
   "cell_type": "markdown",
   "metadata": {},
   "source": [
    "### Popular Hashtags\n",
    "\n",
    "Hashtags give us a quick way to view the conversation and see what people are discussing. Getting the most popular hashtags is just as easy as getting the most prolific users.\n"
   ]
  },
  {
   "cell_type": "code",
   "execution_count": 12,
   "metadata": {},
   "outputs": [
    {
     "name": "stdout",
     "output_type": "stream",
     "text": [
      "Unique Hashtags: 997\n",
      "Top Twenty Hashtags:\n",
      "\t #sandy 108\n",
      "\t #nyc 47\n",
      "\t #hurricanesandy 26\n",
      "\t #newyork 12\n",
      "\t #brooklyn 9\n",
      "\t #halloween 8\n",
      "\t #instagood 8\n",
      "\t #photooftheday 8\n",
      "\t #frankenstorm 8\n",
      "\t #hurricane 8\n",
      "\t #centralpark 7\n",
      "\t #debates 6\n",
      "\t #instamood 6\n",
      "\t #satstudytime 6\n",
      "\t #igers 5\n",
      "\t #picoftheday 5\n",
      "\t #instagramhub 5\n",
      "\t #instadaily 5\n",
      "\t #oomf 5\n",
      "\t #newyorkcity 5\n"
     ]
    }
   ],
   "source": [
    "# A map for hashtag counts\n",
    "hashtagCounter = {}\n",
    "\n",
    "# For each minute, pull the list of hashtags and add to the counter\n",
    "for t in sortedTimes:\n",
    "    timeObj = frequencyMap[t]\n",
    "    \n",
    "    for tweet in timeObj[\"list\"]:\n",
    "        hashtagList = tweet[\"entities\"][\"hashtags\"]\n",
    "        \n",
    "        for hashtagObj in hashtagList:\n",
    "            \n",
    "            # We lowercase the hashtag to avoid duplicates (e.g., #MikeBrown vs. #mikebrown)\n",
    "            hashtagString = hashtagObj[\"text\"].lower()\n",
    "            \n",
    "            if ( hashtagString not in hashtagCounter ):\n",
    "                hashtagCounter[hashtagString] = 1\n",
    "            else:\n",
    "                hashtagCounter[hashtagString] += 1\n",
    "\n",
    "print (\"Unique Hashtags:\", len(hashtagCounter.keys()))\n",
    "sortedHashtags = sorted(hashtagCounter, key=hashtagCounter.get, reverse=True)\n",
    "print (\"Top Twenty Hashtags:\")\n",
    "for ht in sortedHashtags[:20]:\n",
    "    print (\"\\t\", \"#\" + ht, hashtagCounter[ht])"
   ]
  },
  {
   "cell_type": "markdown",
   "metadata": {},
   "source": [
    "### Event Detection w/ Keyword Frequency\n",
    "\n",
    "Twitter is good for breaking news. When an impactful event occurs, we often see a spike on Twitter of the usage of a related keyword. Some examples are below.\n"
   ]
  },
  {
   "cell_type": "code",
   "execution_count": 13,
   "metadata": {},
   "outputs": [
    {
     "data": {
      "image/png": "[encoded data removed]",
      "text/plain": [
       "<Figure size 1332x756 with 1 Axes>"
      ]
     },
     "metadata": {
      "needs_background": "light"
     },
     "output_type": "display_data"
    }
   ],
   "source": [
    "# What keywords are we interested in?\n",
    "targetKeywords = [\"obama\", \"nyc\"]\n",
    "# targetKeywords.append(\"lowery\")\n",
    "# targetKeywords.append(\"reilly\")\n",
    "targetKeywords.append(\"sandy\")\n",
    "\n",
    "# Build an empty map for each keyword we are seaching for\n",
    "targetCounts = {x:[] for x in targetKeywords}\n",
    "totalCount = []\n",
    "\n",
    "# For each minute, pull the tweet text and search for the keywords we want\n",
    "for t in sortedTimes:\n",
    "    timeObj = frequencyMap[t]\n",
    "    \n",
    "    # Temporary counter for this minute\n",
    "    localTargetCounts = {x:0 for x in targetKeywords}\n",
    "    localTotalCount = 0\n",
    "    \n",
    "    for tweetObj in timeObj[\"list\"]:\n",
    "        tweetString = tweetObj[\"text\"].lower()\n",
    "\n",
    "        localTotalCount += 1\n",
    "        \n",
    "        # Add to the counter if the target keyword is in this tweet\n",
    "        for keyword in targetKeywords:\n",
    "            if ( keyword in tweetString ):\n",
    "                localTargetCounts[keyword] += 1\n",
    "                \n",
    "    # Add the counts for this minute to the main counter\n",
    "    totalCount.append(localTotalCount)\n",
    "    for keyword in targetKeywords:\n",
    "        targetCounts[keyword].append(localTargetCounts[keyword])\n",
    "        \n",
    "# Now plot the total frequency and frequency of each keyword\n",
    "fig, ax = plt.subplots()\n",
    "fig.set_size_inches(18.5,10.5)\n",
    "\n",
    "plt.title(\"Tweet Frequency\")\n",
    "plt.xticks(smallerXTicks, [sortedTimes[x] for x in smallerXTicks], rotation=90)\n",
    "\n",
    "ax.plot(range(len(frequencyMap)), totalCount, label=\"Total\")\n",
    "# label represents adding the equivalent string to the legend\n",
    "\n",
    "for keyword in targetKeywords:\n",
    "    ax.plot(range(len(frequencyMap)), targetCounts[keyword], label=keyword)\n",
    "ax.legend()\n",
    "ax.grid(b=True, which=u'major')\n",
    "\n",
    "plt.show()"
   ]
  },
  {
   "cell_type": "markdown",
   "metadata": {},
   "source": [
    "**Question 6**. Study some example codes with 2 different hashtags. Explain how are those messages different. \n",
    "\n",
    "**Question 7**. Which among the top 20 hashtags are related to Sandy. What are the most popular non-Sandy hashtags? \n",
    "\n",
    "**Question 8**. Among the top 20 hashtags, try to find which of them were particularly popular before Sandy, during Sandy, and those whose popularity did not change much. Try to apply k-means clustering on the time series of hashtags to try to find similar groups of hashtags. Discuss your findings."
   ]
  },
  {
   "cell_type": "markdown",
   "metadata": {},
   "source": [
    "**Answer 6:** <br>\n",
    "So funniest thing is that I wanted to compare what tweets two different cities are posting about because `Hoboken`, I know, is a city in NJ just right next to `NYC`. Meanwhile I also wanted to compare what differences does it make hashtagging between NYC and the full name `New York City`. Unsurprisingly both cities started tweeting a lot about Hurricane Sandy nearing the end of each list value within my dictionary as tweet were fetched based on the chronological order of the time series. The only difference is that more people enjoy using the shortened hashtag of nyc. The surprising discovery, though, is that the way I scraped the tweets ended up with more tweet counts in each list of tweets stored as dictionary values compared to the counts found in hashtagCounter. I'm not sure what the error is that occurred in the hashtagCounter as I've double checked my own hashtagDict and verified that at least the counts of `hoboken` and `new york city` do seem higher than hashtagCounter. "
   ]
  },
  {
   "cell_type": "code",
   "execution_count": 16,
   "metadata": {},
   "outputs": [
    {
     "name": "stdout",
     "output_type": "stream",
     "text": [
      "['jets', 'studyingforthesat', '100thingsaboutme', 'smackboi', 'fall', 'jobs', 'debate', 'omg', 'love', 'bored', 'hoboken', 'strataconf', 'romney', 'raw', 'debate2012', 'obama2012', 'sexy', 'foodporn', 'red', 'jj']\n",
      "\t #jets 5\n",
      "\t #studyingforthesat 5\n",
      "\t #100thingsaboutme 5\n",
      "\t #smackboi 5\n",
      "\t #fall 4\n",
      "\t #jobs 4\n",
      "\t #debate 4\n",
      "\t #omg 4\n",
      "\t #love 4\n",
      "\t #bored 4\n",
      "\t #hoboken 4\n",
      "\t #strataconf 3\n",
      "\t #romney 3\n",
      "\t #raw 3\n",
      "\t #debate2012 3\n",
      "\t #obama2012 3\n",
      "\t #sexy 3\n",
      "\t #foodporn 3\n",
      "\t #red 3\n",
      "\t #jj 3\n"
     ]
    }
   ],
   "source": [
    "print(sortedHashtags[20:40])\n",
    "for hashtag in sortedHashtags[20:40]:\n",
    "    print('\\t', '#'+hashtag, hashtagCounter[hashtag])"
   ]
  },
  {
   "cell_type": "code",
   "execution_count": 113,
   "metadata": {
    "scrolled": false
   },
   "outputs": [
    {
     "name": "stdout",
     "output_type": "stream",
     "text": [
      "#nyc : 141\n",
      "#newyorkcity : 15\n",
      "#hoboken : 12\n",
      "{'hoboken': ['Worked til 11pm now headed to the Shannon #Hoboken to forget '\n",
      "             'about it with @DonnaZitelli',\n",
      "             \"Coastal areas bear brunt of Sandy's damaging wrath -Sumter Item \"\n",
      "             'http://t.co/Z0A9D1K2 #Hoboken #NJ',\n",
      "             'Hey #Sandy, Welcome to #Hoboken. \"nikocoutroulis\\'s photo '\n",
      "             'http://t.co/6PwN0qTM\"',\n",
      "             '@Kathy_hospiceRN Just read that routes from the north are '\n",
      "             'opening. You might be able to find a way into #hoboken tomorrow.',\n",
      "             'Worked til 11pm now headed to the Shannon #Hoboken to forget '\n",
      "             'about it with @DonnaZitelli',\n",
      "             \"Coastal areas bear brunt of Sandy's damaging wrath -Sumter Item \"\n",
      "             'http://t.co/Z0A9D1K2 #Hoboken #NJ',\n",
      "             'Hey #Sandy, Welcome to #Hoboken. \"nikocoutroulis\\'s photo '\n",
      "             'http://t.co/6PwN0qTM\"',\n",
      "             '@Kathy_hospiceRN Just read that routes from the north are '\n",
      "             'opening. You might be able to find a way into #hoboken tomorrow.',\n",
      "             'Worked til 11pm now headed to the Shannon #Hoboken to forget '\n",
      "             'about it with @DonnaZitelli',\n",
      "             \"Coastal areas bear brunt of Sandy's damaging wrath -Sumter Item \"\n",
      "             'http://t.co/Z0A9D1K2 #Hoboken #NJ',\n",
      "             'Hey #Sandy, Welcome to #Hoboken. \"nikocoutroulis\\'s photo '\n",
      "             'http://t.co/6PwN0qTM\"',\n",
      "             '@Kathy_hospiceRN Just read that routes from the north are '\n",
      "             'opening. You might be able to find a way into #hoboken '\n",
      "             'tomorrow.'],\n",
      " 'newyorkcity': ['#good #morning #workout to start today right 🏃👍#newyorkcity '\n",
      "                 '#nyc 🇺🇸 @ Sofitel New York http://t.co/cguPDoMy',\n",
      "                 'NEW: 15 Jan : Underoath Farewell Tour  in NEW YORK CITY. '\n",
      "                 'Check http://t.co/CsdbBBDy. #NEWYORKCITY #EventsinNewYork',\n",
      "                 \"Mac Donald's genre 400 places et seulement 1 chiotte pour \"\n",
      "                 'tout le monde. #NewYorkCity',\n",
      "                 'On line to get to the #BrooklynBridge #nyc #newyorkcity '\n",
      "                 '#bokeh #hurricanesandy  @ Brooklyn Bridge '\n",
      "                 'http://t.co/NB9Hsex9',\n",
      "                 'Companions.. #newyorkcity #centralpark #oldman #dog  @ '\n",
      "                 'Central Park - Cedar Hill http://t.co/lYYc1iUs',\n",
      "                 '#good #morning #workout to start today right 🏃👍#newyorkcity '\n",
      "                 '#nyc 🇺🇸 @ Sofitel New York http://t.co/cguPDoMy',\n",
      "                 'NEW: 15 Jan : Underoath Farewell Tour  in NEW YORK CITY. '\n",
      "                 'Check http://t.co/CsdbBBDy. #NEWYORKCITY #EventsinNewYork',\n",
      "                 \"Mac Donald's genre 400 places et seulement 1 chiotte pour \"\n",
      "                 'tout le monde. #NewYorkCity',\n",
      "                 'On line to get to the #BrooklynBridge #nyc #newyorkcity '\n",
      "                 '#bokeh #hurricanesandy  @ Brooklyn Bridge '\n",
      "                 'http://t.co/NB9Hsex9',\n",
      "                 'Companions.. #newyorkcity #centralpark #oldman #dog  @ '\n",
      "                 'Central Park - Cedar Hill http://t.co/lYYc1iUs',\n",
      "                 '#good #morning #workout to start today right 🏃👍#newyorkcity '\n",
      "                 '#nyc 🇺🇸 @ Sofitel New York http://t.co/cguPDoMy',\n",
      "                 'NEW: 15 Jan : Underoath Farewell Tour  in NEW YORK CITY. '\n",
      "                 'Check http://t.co/CsdbBBDy. #NEWYORKCITY #EventsinNewYork',\n",
      "                 \"Mac Donald's genre 400 places et seulement 1 chiotte pour \"\n",
      "                 'tout le monde. #NewYorkCity',\n",
      "                 'On line to get to the #BrooklynBridge #nyc #newyorkcity '\n",
      "                 '#bokeh #hurricanesandy  @ Brooklyn Bridge '\n",
      "                 'http://t.co/NB9Hsex9',\n",
      "                 'Companions.. #newyorkcity #centralpark #oldman #dog  @ '\n",
      "                 'Central Park - Cedar Hill http://t.co/lYYc1iUs'],\n",
      " 'nyc': ['Tree in Central Park with a budding limb. #fall #NYC #tree #gex500 '\n",
      "         '#centralpark #color  @ Central Park http://t.co/Eacv0O9P',\n",
      "         '#nyc #centralpark #imagine #strawberryfields  @ Strawberry Fields '\n",
      "         'http://t.co/kwvJDxp5',\n",
      "         '#topshop #dresses #sweater #nyc #nycshopping #nycstores #soho  @ '\n",
      "         'Topshop http://t.co/KP0HqT2S',\n",
      "         'Yummy dinner at #Catch #nyc @ Catch http://t.co/QWpwqyNO',\n",
      "         '#NYC #marathon benches being put up in #centralpark #run @nyrr @ '\n",
      "         'Central Park http://t.co/BUld5ci9',\n",
      "         '#good #morning #workout to start today right 🏃👍#newyorkcity #nyc 🇺🇸 '\n",
      "         '@ Sofitel New York http://t.co/cguPDoMy',\n",
      "         'Fall in Flushing Meadows Corona Park #queens #nyc #fall #autumn  @ '\n",
      "         'The Unisphere http://t.co/bUvg8Akc',\n",
      "         'New show starting tomorrow! Lets go Queens!! Play Lounge@9pm #NYC '\n",
      "         '#nylife #queens #comedy #dreamer #goalsgoalsgoals',\n",
      "         'The times they are a changing. #tabletlife #nyc @ MTA Subway - 59th '\n",
      "         'St/Columbus Circle (A/B/C/D/1) http://t.co/2CuoCFZU',\n",
      "         \"Last day in the USA! Shame it's in Times Square ;) naaat #NYC \"\n",
      "         'http://t.co/hgJp2Uni',\n",
      "         'Wow, the new @instaDM is awesome. Get it and send me a message! '\n",
      "         '#NewInstaDM #chat #nyc #newy @ Lalala World! http://t.co/pTpyK5zS',\n",
      "         '#happybirthday Micha ! #nyc  @ Booze Cruise http://t.co/WIFHcBNX',\n",
      "         'Now this is good eats with friends!! #NYC @ Yummy Village Sushi '\n",
      "         'http://t.co/hkHolKPR',\n",
      "         'Love this building #nyc  @ Madison Square Park http://t.co/ozooZ6su',\n",
      "         'Hurricane preparation in #NYC for the 2nd time in a year.  '\n",
      "         '#dayaftertomorrow #sandy',\n",
      "         'Ahhh the beauty of new York!!!!\\n'\n",
      "         '\\n'\n",
      "         '🗽🌅🌄🎢🚢🚤⛵🇺🇸\\n'\n",
      "         '\\n'\n",
      "         '#manhattan \\n'\n",
      "         '#queens \\n'\n",
      "         '#Brooklyn \\n'\n",
      "         '#NYC \\n'\n",
      "         '#cruis http://t.co/wYr928Oa',\n",
      "         'Happy Saturday #nyc #statenisland #calmbeforehurricanesandy '\n",
      "         '#frankenstorm #filipino #seavi @ Seaview Estates '\n",
      "         'http://t.co/gUXo6eAw',\n",
      "         'A run-in with my favorite set of twins! #bodyrocksport #kellydooley '\n",
      "         '#madisonave #nyc #kalley @ The Big Apple http://t.co/ija1xonP',\n",
      "         '#NYC #empirestate #newyork #city @ Empire State Building '\n",
      "         'http://t.co/QDjzZ3ch',\n",
      "         'Earlier today: Pigeon pose on top of The Empire State Building. '\n",
      "         '#NYC  @ Hotel 17 http://t.co/6AWxU5Gg',\n",
      "         'Love #nyc  @ Belvedere Castle http://t.co/CAs9UmBW',\n",
      "         'Tantra is #UnWalkable right now! Our lovelies @d_botero and Claudia '\n",
      "         'handling your tables #LiveCam #NYC',\n",
      "         'At the brooklynbrewery yesterday #nyc #whpbehindthelens @ Brooklyn '\n",
      "         'Brewery http://t.co/Wf3XxhiR',\n",
      "         '#Sandy #nyc 뉴욕뉴저지지역 현재 허리케인 샌디 북상중으로 비상대비요망! 지하철 오늘 19시부터 안다니고 오늘밤부터 '\n",
      "         '낼밤까진 꼼짝마라입니당~ 어제 간만에 할로윈파뤼가서 신나게놀다오길 잘했당ㅋ낼 회사도 휴무예정!이쪽에 계신분들 stay '\n",
      "         'safe!',\n",
      "         'Todos los cruceros y ferries se suspenden hasta nuevo aviso #NYC '\n",
      "         '#Sandy',\n",
      "         '#hurricanesandy #hurricane #party #essentials #vegetarian #chili and '\n",
      "         '#cheap #beer #nyc #brooklyn  @ Hood Luv http://t.co/iVapdYnn',\n",
      "         'On line to get to the #BrooklynBridge #nyc #newyorkcity #bokeh '\n",
      "         '#hurricanesandy  @ Brooklyn Bridge http://t.co/NB9Hsex9',\n",
      "         'Y aquí tienen a su pendejo pa tomarles las fotos #family  #nyc '\n",
      "         '#sandy is a bitch @ The St. Regis New York http://t.co/i25Ws7oS',\n",
      "         \"Oh Sandy you scare me... Sleep time now. At least cars won't wake me \"\n",
      "         'up now ... #NYC #HurricaneSandy',\n",
      "         'Riding out the storm at #table12 w/ @LadyLaurenSara #nyc '\n",
      "         '#eastvillage #sandy  @ Table 12 http://t.co/9JB26Zw2',\n",
      "         'Our empty, wet balcony. #upperwestside #sandy #nyc  @ Trinity House '\n",
      "         'http://t.co/FJkoKoHM',\n",
      "         'before #sandy hits. #nyc #harlem  @ Riverside Park '\n",
      "         'http://t.co/iPseVoSK',\n",
      "         '#RedHook is under water!! Be safe out there!! #Brooklyn #NYC '\n",
      "         '#HurricaneSandy #mybestbkr @ Red Hook, Brooklyn http://t.co/K9JqoYMJ',\n",
      "         'Then Sandy said, \"Tell me about it Stud.\" #Grease #hurricanesandy '\n",
      "         '#nyc [thanks @NYUlocal] @ Upper East Side http://t.co/VFQB6GfH',\n",
      "         'The olive building in this Google street view is the 4 story '\n",
      "         'building that it said to have just collapsed: http://t.co/xmGFYcF6 '\n",
      "         '#sandy #nyc',\n",
      "         \"“@pedrorva: #Sandy Here's a picture from a lower level #NYC \"\n",
      "         'http://t.co/pohWFhOQ” this is exactly what Perry st looks like by '\n",
      "         'west st',\n",
      "         '\"@NYMag: CNN: Lots of transformers going off. Explains sighting of '\n",
      "         'explosions in the air around #NYC and NJ. #Sandy\" fireworks, '\n",
      "         'warzone, ufo',\n",
      "         'Hey guys @HLundqvist30 @Rupper17 @BDubi17 @BrandonPrust8 '\n",
      "         '@BRichards_1991 can I please get a retweet for all our #nyc '\n",
      "         '#rescueworkers outthere',\n",
      "         \"A fish on my son's football pitch. #sandy #hurricane #nyc #pier25 \"\n",
      "         '#wrong #hurr @ Pier 25 — Hudson River Park http://t.co/CwlS9nX7',\n",
      "         'Bloomberg signed exec order- taxis can pick up multiple passengers. '\n",
      "         'Black car services allowed to pick up passengers on street #nyc '\n",
      "         '#sandy',\n",
      "         '#Crane #NYC (@ 150 Central Park South) [pic]: http://t.co/ysHP5Wev',\n",
      "         \"srsly #poweroutage post-sandy ain't #goodenough excuse NOT wear fave \"\n",
      "         '@burberry #burberry #nyc  @ Murray Hill http://t.co/Ki7nKjLY',\n",
      "         'Cluck. Halloween in #ridgewood #nyc  @ Chicken Galore '\n",
      "         'http://t.co/DdLzFy0D',\n",
      "         'Happy Halloween laduree #nyc  @ Maison Ladurée http://t.co/nRTQV6V7',\n",
      "         'Long shadows #nyc #sidewalk #shadows #light #dramatic #golden  @ Fox '\n",
      "         'Fitness Center, News Corp. HQ http://t.co/M3HGiXQC',\n",
      "         '#windowshot #NYC #hair #flick #silhouette  @ Peninsula Hotel '\n",
      "         'http://t.co/mCnUp5GW',\n",
      "         'Looking south from the Empire State Building: Manhattan in darkness, '\n",
      "         'Freedom tower on... #NYCstrong #NYC #Sandy http://t.co/pni9g4Ya',\n",
      "         'Tree in Central Park with a budding limb. #fall #NYC #tree #gex500 '\n",
      "         '#centralpark #color  @ Central Park http://t.co/Eacv0O9P',\n",
      "         '#nyc #centralpark #imagine #strawberryfields  @ Strawberry Fields '\n",
      "         'http://t.co/kwvJDxp5',\n",
      "         '#topshop #dresses #sweater #nyc #nycshopping #nycstores #soho  @ '\n",
      "         'Topshop http://t.co/KP0HqT2S',\n",
      "         'Yummy dinner at #Catch #nyc @ Catch http://t.co/QWpwqyNO',\n",
      "         '#NYC #marathon benches being put up in #centralpark #run @nyrr @ '\n",
      "         'Central Park http://t.co/BUld5ci9',\n",
      "         '#good #morning #workout to start today right 🏃👍#newyorkcity #nyc 🇺🇸 '\n",
      "         '@ Sofitel New York http://t.co/cguPDoMy',\n",
      "         'Fall in Flushing Meadows Corona Park #queens #nyc #fall #autumn  @ '\n",
      "         'The Unisphere http://t.co/bUvg8Akc',\n",
      "         'New show starting tomorrow! Lets go Queens!! Play Lounge@9pm #NYC '\n",
      "         '#nylife #queens #comedy #dreamer #goalsgoalsgoals',\n",
      "         'The times they are a changing. #tabletlife #nyc @ MTA Subway - 59th '\n",
      "         'St/Columbus Circle (A/B/C/D/1) http://t.co/2CuoCFZU',\n",
      "         \"Last day in the USA! Shame it's in Times Square ;) naaat #NYC \"\n",
      "         'http://t.co/hgJp2Uni',\n",
      "         'Wow, the new @instaDM is awesome. Get it and send me a message! '\n",
      "         '#NewInstaDM #chat #nyc #newy @ Lalala World! http://t.co/pTpyK5zS',\n",
      "         '#happybirthday Micha ! #nyc  @ Booze Cruise http://t.co/WIFHcBNX',\n",
      "         'Now this is good eats with friends!! #NYC @ Yummy Village Sushi '\n",
      "         'http://t.co/hkHolKPR',\n",
      "         'Love this building #nyc  @ Madison Square Park http://t.co/ozooZ6su',\n",
      "         'Hurricane preparation in #NYC for the 2nd time in a year.  '\n",
      "         '#dayaftertomorrow #sandy',\n",
      "         'Ahhh the beauty of new York!!!!\\n'\n",
      "         '\\n'\n",
      "         '🗽🌅🌄🎢🚢🚤⛵🇺🇸\\n'\n",
      "         '\\n'\n",
      "         '#manhattan \\n'\n",
      "         '#queens \\n'\n",
      "         '#Brooklyn \\n'\n",
      "         '#NYC \\n'\n",
      "         '#cruis http://t.co/wYr928Oa',\n",
      "         'Happy Saturday #nyc #statenisland #calmbeforehurricanesandy '\n",
      "         '#frankenstorm #filipino #seavi @ Seaview Estates '\n",
      "         'http://t.co/gUXo6eAw',\n",
      "         'A run-in with my favorite set of twins! #bodyrocksport #kellydooley '\n",
      "         '#madisonave #nyc #kalley @ The Big Apple http://t.co/ija1xonP',\n",
      "         '#NYC #empirestate #newyork #city @ Empire State Building '\n",
      "         'http://t.co/QDjzZ3ch',\n",
      "         'Earlier today: Pigeon pose on top of The Empire State Building. '\n",
      "         '#NYC  @ Hotel 17 http://t.co/6AWxU5Gg',\n",
      "         'Love #nyc  @ Belvedere Castle http://t.co/CAs9UmBW',\n",
      "         'Tantra is #UnWalkable right now! Our lovelies @d_botero and Claudia '\n",
      "         'handling your tables #LiveCam #NYC',\n",
      "         'At the brooklynbrewery yesterday #nyc #whpbehindthelens @ Brooklyn '\n",
      "         'Brewery http://t.co/Wf3XxhiR',\n",
      "         '#Sandy #nyc 뉴욕뉴저지지역 현재 허리케인 샌디 북상중으로 비상대비요망! 지하철 오늘 19시부터 안다니고 오늘밤부터 '\n",
      "         '낼밤까진 꼼짝마라입니당~ 어제 간만에 할로윈파뤼가서 신나게놀다오길 잘했당ㅋ낼 회사도 휴무예정!이쪽에 계신분들 stay '\n",
      "         'safe!',\n",
      "         'Todos los cruceros y ferries se suspenden hasta nuevo aviso #NYC '\n",
      "         '#Sandy',\n",
      "         '#hurricanesandy #hurricane #party #essentials #vegetarian #chili and '\n",
      "         '#cheap #beer #nyc #brooklyn  @ Hood Luv http://t.co/iVapdYnn',\n",
      "         'On line to get to the #BrooklynBridge #nyc #newyorkcity #bokeh '\n",
      "         '#hurricanesandy  @ Brooklyn Bridge http://t.co/NB9Hsex9',\n",
      "         'Y aquí tienen a su pendejo pa tomarles las fotos #family  #nyc '\n",
      "         '#sandy is a bitch @ The St. Regis New York http://t.co/i25Ws7oS',\n",
      "         \"Oh Sandy you scare me... Sleep time now. At least cars won't wake me \"\n",
      "         'up now ... #NYC #HurricaneSandy',\n",
      "         'Riding out the storm at #table12 w/ @LadyLaurenSara #nyc '\n",
      "         '#eastvillage #sandy  @ Table 12 http://t.co/9JB26Zw2',\n",
      "         'Our empty, wet balcony. #upperwestside #sandy #nyc  @ Trinity House '\n",
      "         'http://t.co/FJkoKoHM',\n",
      "         'before #sandy hits. #nyc #harlem  @ Riverside Park '\n",
      "         'http://t.co/iPseVoSK',\n",
      "         '#RedHook is under water!! Be safe out there!! #Brooklyn #NYC '\n",
      "         '#HurricaneSandy #mybestbkr @ Red Hook, Brooklyn http://t.co/K9JqoYMJ',\n",
      "         'Then Sandy said, \"Tell me about it Stud.\" #Grease #hurricanesandy '\n",
      "         '#nyc [thanks @NYUlocal] @ Upper East Side http://t.co/VFQB6GfH',\n",
      "         'The olive building in this Google street view is the 4 story '\n",
      "         'building that it said to have just collapsed: http://t.co/xmGFYcF6 '\n",
      "         '#sandy #nyc',\n",
      "         \"“@pedrorva: #Sandy Here's a picture from a lower level #NYC \"\n",
      "         'http://t.co/pohWFhOQ” this is exactly what Perry st looks like by '\n",
      "         'west st',\n",
      "         '\"@NYMag: CNN: Lots of transformers going off. Explains sighting of '\n",
      "         'explosions in the air around #NYC and NJ. #Sandy\" fireworks, '\n",
      "         'warzone, ufo',\n",
      "         'Hey guys @HLundqvist30 @Rupper17 @BDubi17 @BrandonPrust8 '\n",
      "         '@BRichards_1991 can I please get a retweet for all our #nyc '\n",
      "         '#rescueworkers outthere',\n",
      "         \"A fish on my son's football pitch. #sandy #hurricane #nyc #pier25 \"\n",
      "         '#wrong #hurr @ Pier 25 — Hudson River Park http://t.co/CwlS9nX7',\n",
      "         'Bloomberg signed exec order- taxis can pick up multiple passengers. '\n",
      "         'Black car services allowed to pick up passengers on street #nyc '\n",
      "         '#sandy',\n",
      "         '#Crane #NYC (@ 150 Central Park South) [pic]: http://t.co/ysHP5Wev',\n",
      "         \"srsly #poweroutage post-sandy ain't #goodenough excuse NOT wear fave \"\n",
      "         '@burberry #burberry #nyc  @ Murray Hill http://t.co/Ki7nKjLY',\n",
      "         'Cluck. Halloween in #ridgewood #nyc  @ Chicken Galore '\n",
      "         'http://t.co/DdLzFy0D',\n",
      "         'Happy Halloween laduree #nyc  @ Maison Ladurée http://t.co/nRTQV6V7',\n",
      "         'Long shadows #nyc #sidewalk #shadows #light #dramatic #golden  @ Fox '\n",
      "         'Fitness Center, News Corp. HQ http://t.co/M3HGiXQC',\n",
      "         '#windowshot #NYC #hair #flick #silhouette  @ Peninsula Hotel '\n",
      "         'http://t.co/mCnUp5GW',\n",
      "         'Looking south from the Empire State Building: Manhattan in darkness, '\n",
      "         'Freedom tower on... #NYCstrong #NYC #Sandy http://t.co/pni9g4Ya',\n",
      "         'Tree in Central Park with a budding limb. #fall #NYC #tree #gex500 '\n",
      "         '#centralpark #color  @ Central Park http://t.co/Eacv0O9P',\n",
      "         '#nyc #centralpark #imagine #strawberryfields  @ Strawberry Fields '\n",
      "         'http://t.co/kwvJDxp5',\n",
      "         '#topshop #dresses #sweater #nyc #nycshopping #nycstores #soho  @ '\n",
      "         'Topshop http://t.co/KP0HqT2S',\n",
      "         'Yummy dinner at #Catch #nyc @ Catch http://t.co/QWpwqyNO',\n",
      "         '#NYC #marathon benches being put up in #centralpark #run @nyrr @ '\n",
      "         'Central Park http://t.co/BUld5ci9',\n",
      "         '#good #morning #workout to start today right 🏃👍#newyorkcity #nyc 🇺🇸 '\n",
      "         '@ Sofitel New York http://t.co/cguPDoMy',\n",
      "         'Fall in Flushing Meadows Corona Park #queens #nyc #fall #autumn  @ '\n",
      "         'The Unisphere http://t.co/bUvg8Akc',\n",
      "         'New show starting tomorrow! Lets go Queens!! Play Lounge@9pm #NYC '\n",
      "         '#nylife #queens #comedy #dreamer #goalsgoalsgoals',\n",
      "         'The times they are a changing. #tabletlife #nyc @ MTA Subway - 59th '\n",
      "         'St/Columbus Circle (A/B/C/D/1) http://t.co/2CuoCFZU',\n",
      "         \"Last day in the USA! Shame it's in Times Square ;) naaat #NYC \"\n",
      "         'http://t.co/hgJp2Uni',\n",
      "         'Wow, the new @instaDM is awesome. Get it and send me a message! '\n",
      "         '#NewInstaDM #chat #nyc #newy @ Lalala World! http://t.co/pTpyK5zS',\n",
      "         '#happybirthday Micha ! #nyc  @ Booze Cruise http://t.co/WIFHcBNX',\n",
      "         'Now this is good eats with friends!! #NYC @ Yummy Village Sushi '\n",
      "         'http://t.co/hkHolKPR',\n",
      "         'Love this building #nyc  @ Madison Square Park http://t.co/ozooZ6su',\n",
      "         'Hurricane preparation in #NYC for the 2nd time in a year.  '\n",
      "         '#dayaftertomorrow #sandy',\n",
      "         'Ahhh the beauty of new York!!!!\\n'\n",
      "         '\\n'\n",
      "         '🗽🌅🌄🎢🚢🚤⛵🇺🇸\\n'\n",
      "         '\\n'\n",
      "         '#manhattan \\n'\n",
      "         '#queens \\n'\n",
      "         '#Brooklyn \\n'\n",
      "         '#NYC \\n'\n",
      "         '#cruis http://t.co/wYr928Oa',\n",
      "         'Happy Saturday #nyc #statenisland #calmbeforehurricanesandy '\n",
      "         '#frankenstorm #filipino #seavi @ Seaview Estates '\n",
      "         'http://t.co/gUXo6eAw',\n",
      "         'A run-in with my favorite set of twins! #bodyrocksport #kellydooley '\n",
      "         '#madisonave #nyc #kalley @ The Big Apple http://t.co/ija1xonP',\n",
      "         '#NYC #empirestate #newyork #city @ Empire State Building '\n",
      "         'http://t.co/QDjzZ3ch',\n",
      "         'Earlier today: Pigeon pose on top of The Empire State Building. '\n",
      "         '#NYC  @ Hotel 17 http://t.co/6AWxU5Gg',\n",
      "         'Love #nyc  @ Belvedere Castle http://t.co/CAs9UmBW',\n",
      "         'Tantra is #UnWalkable right now! Our lovelies @d_botero and Claudia '\n",
      "         'handling your tables #LiveCam #NYC',\n",
      "         'At the brooklynbrewery yesterday #nyc #whpbehindthelens @ Brooklyn '\n",
      "         'Brewery http://t.co/Wf3XxhiR',\n",
      "         '#Sandy #nyc 뉴욕뉴저지지역 현재 허리케인 샌디 북상중으로 비상대비요망! 지하철 오늘 19시부터 안다니고 오늘밤부터 '\n",
      "         '낼밤까진 꼼짝마라입니당~ 어제 간만에 할로윈파뤼가서 신나게놀다오길 잘했당ㅋ낼 회사도 휴무예정!이쪽에 계신분들 stay '\n",
      "         'safe!',\n",
      "         'Todos los cruceros y ferries se suspenden hasta nuevo aviso #NYC '\n",
      "         '#Sandy',\n",
      "         '#hurricanesandy #hurricane #party #essentials #vegetarian #chili and '\n",
      "         '#cheap #beer #nyc #brooklyn  @ Hood Luv http://t.co/iVapdYnn',\n",
      "         'On line to get to the #BrooklynBridge #nyc #newyorkcity #bokeh '\n",
      "         '#hurricanesandy  @ Brooklyn Bridge http://t.co/NB9Hsex9',\n",
      "         'Y aquí tienen a su pendejo pa tomarles las fotos #family  #nyc '\n",
      "         '#sandy is a bitch @ The St. Regis New York http://t.co/i25Ws7oS',\n",
      "         \"Oh Sandy you scare me... Sleep time now. At least cars won't wake me \"\n",
      "         'up now ... #NYC #HurricaneSandy',\n",
      "         'Riding out the storm at #table12 w/ @LadyLaurenSara #nyc '\n",
      "         '#eastvillage #sandy  @ Table 12 http://t.co/9JB26Zw2',\n",
      "         'Our empty, wet balcony. #upperwestside #sandy #nyc  @ Trinity House '\n",
      "         'http://t.co/FJkoKoHM',\n",
      "         'before #sandy hits. #nyc #harlem  @ Riverside Park '\n",
      "         'http://t.co/iPseVoSK',\n",
      "         '#RedHook is under water!! Be safe out there!! #Brooklyn #NYC '\n",
      "         '#HurricaneSandy #mybestbkr @ Red Hook, Brooklyn http://t.co/K9JqoYMJ',\n",
      "         'Then Sandy said, \"Tell me about it Stud.\" #Grease #hurricanesandy '\n",
      "         '#nyc [thanks @NYUlocal] @ Upper East Side http://t.co/VFQB6GfH',\n",
      "         'The olive building in this Google street view is the 4 story '\n",
      "         'building that it said to have just collapsed: http://t.co/xmGFYcF6 '\n",
      "         '#sandy #nyc',\n",
      "         \"“@pedrorva: #Sandy Here's a picture from a lower level #NYC \"\n",
      "         'http://t.co/pohWFhOQ” this is exactly what Perry st looks like by '\n",
      "         'west st',\n",
      "         '\"@NYMag: CNN: Lots of transformers going off. Explains sighting of '\n",
      "         'explosions in the air around #NYC and NJ. #Sandy\" fireworks, '\n",
      "         'warzone, ufo',\n",
      "         'Hey guys @HLundqvist30 @Rupper17 @BDubi17 @BrandonPrust8 '\n",
      "         '@BRichards_1991 can I please get a retweet for all our #nyc '\n",
      "         '#rescueworkers outthere',\n",
      "         \"A fish on my son's football pitch. #sandy #hurricane #nyc #pier25 \"\n",
      "         '#wrong #hurr @ Pier 25 — Hudson River Park http://t.co/CwlS9nX7',\n",
      "         'Bloomberg signed exec order- taxis can pick up multiple passengers. '\n",
      "         'Black car services allowed to pick up passengers on street #nyc '\n",
      "         '#sandy',\n",
      "         '#Crane #NYC (@ 150 Central Park South) [pic]: http://t.co/ysHP5Wev',\n",
      "         \"srsly #poweroutage post-sandy ain't #goodenough excuse NOT wear fave \"\n",
      "         '@burberry #burberry #nyc  @ Murray Hill http://t.co/Ki7nKjLY',\n",
      "         'Cluck. Halloween in #ridgewood #nyc  @ Chicken Galore '\n",
      "         'http://t.co/DdLzFy0D',\n",
      "         'Happy Halloween laduree #nyc  @ Maison Ladurée http://t.co/nRTQV6V7',\n",
      "         'Long shadows #nyc #sidewalk #shadows #light #dramatic #golden  @ Fox '\n",
      "         'Fitness Center, News Corp. HQ http://t.co/M3HGiXQC',\n",
      "         '#windowshot #NYC #hair #flick #silhouette  @ Peninsula Hotel '\n",
      "         'http://t.co/mCnUp5GW',\n",
      "         'Looking south from the Empire State Building: Manhattan in darkness, '\n",
      "         'Freedom tower on... #NYCstrong #NYC #Sandy http://t.co/pni9g4Ya']}\n"
     ]
    }
   ],
   "source": [
    "hashtagDict = {\"nyc\": [], \"newyorkcity\": [], \"hoboken\": []}\n",
    "\n",
    "# First loop through the hashtag dictionary\n",
    "for hashtag in hashtagDict.keys():\n",
    "    # Repeat loop through the frequency map to find hashtag list of \n",
    "    for t in sortedTimes:\n",
    "        timeObj = frequencyMap[t]\n",
    "        for tweet in timeObj['list']:\n",
    "            hashtagList = tweet[\"entities\"][\"hashtags\"]\n",
    "            for hashtagObj in hashtagList:\n",
    "                # We lowercase the hashtag to avoid duplicates (e.g., #MikeBrown vs. #mikebrown)\n",
    "                hashtagString = hashtagObj[\"text\"].lower()\n",
    "                if (hashtagString in hashtagDict):\n",
    "                    hashtagDict[hashtagString].append(tweet['text'])\n",
    "\n",
    "for key in hashtagDict.keys():\n",
    "    print('#'+key, ':', len(hashtagDict[key]))\n",
    "pprint(hashtagDict)"
   ]
  },
  {
   "cell_type": "markdown",
   "metadata": {},
   "source": [
    "**Answer 7:** <br>\n",
    "Among the top 20 hashtags related to Sandy:\n",
    "- #sandy\n",
    "- #hurricanesandy\n",
    "- #frankenstorm\n",
    "- #hurricane\n",
    "<br>\n",
    "\n",
    "The most popular non-Sandy hashtags are all those other hashtags within the top 20 which aren't within the list above. I chose to not add #nyc, #newyork, #brooklyn, #centralpark, and #newyorkcity into the mix of hashtags because there's a chance some of them aren't related to the hurricane. I would have to look at every hashtag occurence's accompanying text to confirm if there is any mention of hurricane Sandy."
   ]
  },
  {
   "cell_type": "code",
   "execution_count": null,
   "metadata": {},
   "outputs": [],
   "source": [
    "## Answer 8\n"
   ]
  },
  {
   "cell_type": "markdown",
   "metadata": {},
   "source": [
    "### Language Distribution\n",
    "\n",
    "The following code gives an insight into the languages used for the tweets in your data.\n"
   ]
  },
  {
   "cell_type": "code",
   "execution_count": 27,
   "metadata": {},
   "outputs": [
    {
     "name": "stdout",
     "output_type": "stream",
     "text": [
      "en 3688\n",
      "es 192\n",
      "und 162\n",
      "tl 29\n",
      "fr 27\n",
      "pt 24\n",
      "ar 20\n",
      "ht 20\n",
      "tr 20\n",
      "ru 18\n",
      "it 16\n",
      "in 16\n",
      "de 6\n",
      "ja 6\n",
      "nl 6\n",
      "sv 5\n",
      "ko 4\n",
      "fi 4\n",
      "pl 4\n",
      "lv 3\n",
      "ro 3\n",
      "hi 3\n",
      "is 2\n",
      "da 2\n",
      "cs 2\n",
      "cy 2\n",
      "vi 2\n",
      "et 2\n",
      "sl 2\n",
      "zh 1\n",
      "hu 1\n",
      "fa 1\n",
      "lt 1\n",
      "eu 1\n"
     ]
    }
   ],
   "source": [
    "# A map for counting each language\n",
    "languageCounter = {}\n",
    "\n",
    "for t in sortedTimes:\n",
    "    timeObj = frequencyMap[t]\n",
    "    \n",
    "    for tweet in timeObj[\"list\"]:\n",
    "        lang = tweet[\"lang\"]\n",
    "        \n",
    "        if ( lang not in languageCounter ):\n",
    "            languageCounter[lang] = 1\n",
    "        else:\n",
    "            languageCounter[lang] += 1\n",
    "            \n",
    "languages = sorted(languageCounter.keys(), key=languageCounter.get, reverse=True)\n",
    "\n",
    "for l in languages:\n",
    "    print (l, languageCounter[l])"
   ]
  },
  {
   "cell_type": "code",
   "execution_count": 43,
   "metadata": {},
   "outputs": [
    {
     "data": {
      "image/png": "[encoded data removed]",
      "text/plain": [
       "<Figure size 1152x576 with 1 Axes>"
      ]
     },
     "metadata": {
      "needs_background": "light"
     },
     "output_type": "display_data"
    }
   ],
   "source": [
    "plt.figure(figsize=(16,8))\n",
    "    \n",
    "# the histogram of the data\n",
    "plt.bar(\n",
    "    np.arange(len(languages)),\n",
    "    [languageCounter[x] for x in languages],\n",
    "    log=True)\n",
    "\n",
    "plt.xticks(np.arange(len(languages)) + 0.5, languages)\n",
    "plt.xlabel('Languages')\n",
    "plt.ylabel('Counts (Log)')\n",
    "plt.title(\"Language Frequency\")\n",
    "plt.grid(True)\n",
    "\n",
    "plt.show()"
   ]
  },
  {
   "cell_type": "markdown",
   "metadata": {},
   "source": [
    "**Quesiton 9**. Now that you have experience in extracting different types of information from twitter data, perform your own EDA. Produce a 1-page report providing some interesting insights about the Sandy twitter data."
   ]
  },
  {
   "cell_type": "markdown",
   "metadata": {},
   "source": [
    "## Module 2: Classification\n",
    "\n",
    "In this part of the lab, we will work on a binary classificaiton problem. In particular, we would like to see how easy it is to discriminate between tweets with hashtag #sandy and the rest of them. To do it, we will first create labels: positive tweets will be those with hashtag #sandy and negative those without the hashtag. Then, we we will create a bag-of-words vector out of each tweet, but we will exclude word \"#sandy\". To produce the bag-of-words representation we will use the `CountVectorizer` functionality "
   ]
  },
  {
   "cell_type": "code",
   "execution_count": 27,
   "metadata": {
    "scrolled": false
   },
   "outputs": [
    {
     "name": "stdout",
     "output_type": "stream",
     "text": [
      "0    4234\n",
      "1      61\n",
      "dtype: int64\n",
      "<class 'scipy.sparse.csr.csr_matrix'>\n",
      "False\n",
      "[[0 0 0 ... 0 0 0]\n",
      " [0 0 0 ... 0 0 0]\n",
      " [0 0 0 ... 0 0 0]\n",
      " ...\n",
      " [0 0 0 ... 0 0 0]\n",
      " [0 0 0 ... 0 0 0]\n",
      " [0 0 0 ... 0 0 0]]\n",
      "['00', '10', '100thingsaboutme', '12', '13', '14', '15', '16', '18', '20', '2012', '21', '24', '26', '28', '2nd', '30', '40', '50', '6th', 'able', 'about', 'actually', 'ads', 'adventure', 'af', 'after', 'afternoon', 'again', 'against', 'ago', 'ain', 'air', 'airport', 'al', 'album', 'alert', 'alive', 'all', 'almost', 'already', 'also', 'always', 'am', 'amazing', 'america', 'american', 'amp', 'an', 'and', 'another', 'any', 'anyone', 'anything', 'anyway', 'apartment', 'apocalypse', 'app', 'apple', 'appreciate', 'aqui', 'are', 'area', 'aren', 'around', 'art', 'as', 'ask', 'asked', 'asleep', 'ass', 'astoria', 'at', 'ave', 'avenue', 'away', 'awesome', 'awkward', 'aww', 'awww', 'babe', 'baby', 'back', 'bacon', 'bad', 'ballroom', 'bar', 'barclays', 'battery', 'be', 'beach', 'beat', 'beautiful', 'because', 'bed', 'been', 'beer', 'before', 'behind', 'being', 'believe', 'best', 'bet', 'better', 'between', 'beyond', 'bien', 'big', 'bill', 'birthday', 'bit', 'bitch', 'bitches', 'bk', 'black', 'blackout', 'bloomberg', 'blow', 'blue', 'body', 'boo', 'book', 'bored', 'born', 'boss', 'both', 'bout', 'boy', 'boys', 'breakfast', 'bridge', 'bring', 'bro', 'broke', 'bronx', 'brooklyn', 'brother', 'brown', 'brunch', 'btw', 'building', 'bus', 'but', 'buy', 'by', 'bye', 'cafe', 'café', 'cake', 'call', 'called', 'came', 'can', 'canceled', 'cant', 'car', 'care', 'cars', 'casa', 'case', 'castle', 'cat', 'catch', 'cause', 'center', 'central', 'centralpark', 'change', 'charge', 'check', 'chick', 'chicken', 'chill', 'chillin', 'chinese', 'chocolate', 'choice', 'chris', 'city', 'class', 'classes', 'clean', 'closed', 'club', 'co', 'coffee', 'cold', 'college', 'color', 'com', 'come', 'comes', 'coming', 'con', 'concert', 'confused', 'cool', 'costume', 'could', 'couple', 'course', 'cover', 'crack', 'crazy', 'cry', 'ctfu', 'cut', 'cute', 'cuz', 'da', 'dad', 'damage', 'damn', 'dan', 'dance', 'dark', 'dat', 'date', 'day', 'days', 'de', 'dead', 'dear', 'debate', 'debates', 'definitely', 'del', 'deli', 'di', 'dick', 'did', 'didn', 'die', 'died', 'different', 'dinner', 'dj', 'dm', 'do', 'does', 'doesn', 'dog', 'doing', 'don', 'donde', 'done', 'dont', 'donuts', 'door', 'double', 'down', 'downtown', 'dreams', 'dress', 'drink', 'drive', 'drop', 'drunk', 'du', 'due', 'dunkin', 'during', 'dying', 'earlier', 'east', 'easy', 'eat', 'eating', 'either', 'el', 'election', 'else', 'em', 'empire', 'en', 'end', 'english', 'enjoy', 'enough', 'epic', 'episode', 'es', 'eso', 'especially', 'esta', 'even', 'event', 'ever', 'every', 'everybody', 'everyone', 'everything', 'exactly', 'excited', 'eyes', 'face', 'fair', 'fall', 'family', 'fans', 'far', 'fashion', 'fat', 'favorite', 'fb', 'fear', 'feel', 'feeling', 'feels', 'feet', 'ferry', 'few', 'fight', 'finally', 'find', 'fine', 'fire', 'first', 'fitness', 'flight', 'flooded', 'flooding', 'floor', 'fly', 'follow', 'food', 'for', 'forever', 'forget', 'forward', 'found', 'foursquare', 'frankenstorm', 'freaking', 'free', 'friday', 'friend', 'friends', 'from', 'front', 'fuck', 'fuckin', 'fucking', 'full', 'fun', 'funny', 'gallery', 'game', 'games', 'gas', 'gave', 'george', 'get', 'gets', 'getting', 'giants', 'girl', 'girls', 'give', 'glad', 'gm', 'go', 'god', 'goes', 'going', 'gone', 'gonna', 'good', 'google', 'got', 'gotta', 'gracias', 'grand', 'great', 'green', 'grill', 'ground', 'gt', 'guess', 'guy', 'guys', 'ha', 'had', 'haha', 'hahaha', 'hair', 'half', 'hall', 'halloween', 'hand', 'happened', 'happens', 'happy', 'hard', 'harlem', 'has', 'hate', 'have', 'haven', 'having', 'hay', 'he', 'head', 'hear', 'heard', 'heart', 'heights', 'hell', 'hello', 'help', 'her', 'here', 'hey', 'hi', 'high', 'him', 'his', 'hit', 'hoboken', 'hoes', 'holy', 'home', 'homework', 'honestly', 'hood', 'hope', 'hopefully', 'hoping', 'hospital', 'hot', 'hotel', 'hour', 'hours', 'house', 'how', 'hq', 'http', 'https', 'hudson', 'hungry', 'hurricane', 'hurricanesandy', 'hurt', 'idea', 'idk', 'if', 'igers', 'ill', 'im', 'ima', 'in', 'inside', 'instadaily', 'instagood', 'instagramhub', 'instamood', 'interesting', 'internet', 'into', 'iphone', 'is', 'island', 'isn', 'it', 'its', 'jack', 'jamaica', 'je', 'jersey', 'jets', 'job', 'jobs', 'john', 'joke', 'just', 'ke', 'keep', 'kennedy', 'kevin', 'kid', 'kids', 'kind', 'kinda', 'kitchen', 'knew', 'know', 'knows', 'la', 'ladies', 'lady', 'las', 'last', 'late', 'later', 'le', 'least', 'leave', 'lee', 'left', 'lemme', 'les', 'less', 'let', 'lets', 'level', 'lie', 'life', 'light', 'lights', 'like', 'lil', 'lincoln', 'line', 'list', 'listen', 'listening', 'little', 'live', 'living', 'll', 'lmao', 'lmaoo', 'lmaoooo', 'lmfao', 'lmfaoooo', 'lo', 'local', 'lol', 'lolol', 'long', 'longer', 'look', 'looking', 'looks', 'lord', 'los', 'lose', 'lost', 'lot', 'lots', 'lounge', 'love', 'lower', 'lt', 'luck', 'lucky', 'lunch', 'ma', 'mad', 'made', 'madison', 'make', 'makes', 'making', 'man', 'manhattan', 'many', 'marathon', 'market', 'mas', 'may', 'maybe', 'mayor', 'me', 'mean', 'meet', 'meeting', 'men', 'met', 'mi', 'middle', 'might', 'mind', 'mine', 'minute', 'minutes', 'miss', 'missed', 'mix', 'mixtape', 'mom', 'moma', 'moment', 'monday', 'money', 'mood', 'more', 'morning', 'most', 'mother', 'mouth', 'move', 'movie', 'movies', 'mta', 'much', 'museum', 'music', 'must', 'my', 'myself', 'na', 'name', 'nd', 'near', 'need', 'needed', 'needs', 'nervous', 'never', 'new', 'newark', 'news', 'newyork', 'newyorkcity', 'next', 'nice', 'nigga', 'niggas', 'night', 'nite', 'nj', 'no', 'non', 'nope', 'north', 'not', 'nothing', 'november', 'now', 'number', 'ny', 'nyc', 'obama', 'ocean', 'october', 'of', 'off', 'office', 'official', 'oh', 'ok', 'okay', 'old', 'omg', 'on', 'once', 'one', 'only', 'open', 'or', 'orange', 'other', 'others', 'our', 'ousted', 'out', 'outside', 'outta', 'over', 'own', 'pa', 'pandora', 'para', 'parents', 'park', 'part', 'party', 'passes', 'people', 'perfect', 'pero', 'person', 'phone', 'photo', 'photooftheday', 'pic', 'pick', 'picoftheday', 'pics', 'pier', 'pink', 'pizza', 'place', 'plan', 'plans', 'play', 'playing', 'plaza', 'please', 'plus', 'point', 'pop', 'por', 'position', 'post', 'posted', 'power', 'powerful', 'ppl', 'pretty', 'probably', 'pussy', 'put', 'que', 'queens', 'question', 'quiero', 'quite', 'rain', 're', 'read', 'reade', 'ready', 'real', 'real_liam_payne', 'realize', 'really', 'reason', 'red', 'remember', 'respect', 'rest', 'restaurant', 'ride', 'right', 'river', 'rock', 'romney', 'romo', 'room', 'rt', 'run', 'running', 'sad', 'safe', 'said', 'same', 'sandy', 'satstudytime', 'saturday', 'saw', 'say', 'saying', 'says', 'scary', 'school', 'se', 'season', 'see', 'seeing', 'seems', 'seen', 'send', 'serious', 'service', 'sex', 'sexy', 'she', 'shelter', 'shes', 'shirt', 'shit', 'shop', 'shopping', 'shot', 'should', 'shout', 'show', 'shower', 'shut', 'si', 'side', 'sign', 'since', 'single', 'sis', 'sit', 'size', 'skin', 'sky', 'sleep', 'sleeping', 'slope', 'smh', 'smoke', 'smoking', 'so', 'some', 'someone', 'something', 'sometimes', 'son', 'song', 'soon', 'sorry', 'sounds', 'south', 'special', 'sports', 'square', 'st', 'stand', 'star', 'starbucks', 'start', 'started', 'starting', 'state', 'station', 'stay', 'still', 'stop', 'store', 'storm', 'story', 'straight', 'street', 'streets', 'stuck', 'studyingforthesat', 'stuff', 'stupid', 'su', 'subway', 'success', 'such', 'suck', 'sucks', 'sunday', 'super', 'support', 'sure', 'sweet', 'take', 'taking', 'talk', 'talking', 'tanto', 'te', 'team', 'tell', 'tengo', 'terminal', 'terrible', 'test', 'text', 'than', 'thank', 'thanks', 'that', 'thats', 'the', 'theater', 'theatre', 'their', 'them', 'then', 'there', 'these', 'they', 'thing', 'things', 'think', 'thinking', 'thinks', 'this', 'tho', 'those', 'though', 'thought', 'three', 'through', 'thursday', 'thx', 'ti', 'till', 'time', 'times', 'to', 'today', 'todo', 'together', 'told', 'tomorrow', 'tonight', 'too', 'took', 'top', 'totally', 'touch', 'tour', 'tower', 'town', 'train', 'treat', 'tree', 'trick', 'true', 'trump', 'truth', 'try', 'trying', 'tryna', 'tu', 'tunnel', 'turn', 'tv', 'tweet', 'tweeting', 'tweets', 'twitter', 'two', 'type', 'ugh', 'ugly', 'un', 'una', 'under', 'until', 'up', 'update', 'ur', 'us', 'usa', 'use', 'using', 'vacation', 've', 'very', 'via', 'vida', 'video', 'view', 'village', 'vote', 'vs', 'wait', 'waiting', 'wake', 'walk', 'walked', 'walking', 'wall', 'wanna', 'want', 'wanted', 'wants', 'was', 'washington', 'wasn', 'wat', 'watch', 'watching', 'water', 'way', 'we', 'wear', 'wearing', 'weather', 'week', 'weekend', 'weeknd', 'welcome', 'well', 'went', 'were', 'west', 'what', 'when', 'where', 'which', 'while', 'white', 'who', 'whole', 'why', 'wifi', 'will', 'williamsburg', 'win', 'wind', 'windows', 'winds', 'wine', 'wish', 'wit', 'with', 'without', 'woke', 'woman', 'women', 'won', 'wonder', 'word', 'words', 'work', 'working', 'workout', 'world', 'worth', 'would', 'wouldn', 'wow', 'writing', 'wrong', 'wtf', 'xd', 'xoxo', 'xx', 'ya', 'yea', 'yeah', 'year', 'years', 'yes', 'yesterday', 'yet', 'yo', 'york', 'you', 'young', 'your', 'yours', 'yourself', 'yu', 'yum', 'yup', 'на', 'ما']\n"
     ]
    }
   ],
   "source": [
    "import pandas as pd\n",
    "import numpy as np\n",
    "import codecs, json\n",
    "\n",
    "\"\"\"\n",
    "Step 1. Create sentences and labels from json file. \n",
    "\"\"\"\n",
    "filePath='smallNYC.json'\n",
    "sents = []\n",
    "reader = codecs.getreader(\"utf-8\")\n",
    "for line in open(filePath, 'rb'):\n",
    "    # Try to read tweet JSON into object\n",
    "    tweetObj = None\n",
    "    tweetObj = json.loads(reader.decode(line)[0])\n",
    "    sents.append(tweetObj['text'])\n",
    "    \n",
    "\"\"\"\n",
    "Step 2.1. Get label. If sent contains '#sandy', label=1; otherwise, label=0\n",
    "\"\"\"\n",
    "labels = np.array(['#sandy' in sent.split() for sent in sents], dtype='int')\n",
    "print(pd.Series(labels).value_counts())\n",
    "\"\"\"\n",
    "Step 2.2. Represent the data into Bag-of-words features, i.e, each sentence is a \n",
    "            vector of word counts. \n",
    "          a). Only select words with frequency >= 5\n",
    "          b). Remove label words '#sandy'\n",
    "\"\"\"\n",
    "\n",
    "from sklearn.feature_extraction.text import CountVectorizer\n",
    "vectorizer = CountVectorizer(min_df=5, stop_words = ['#sandy'])\n",
    "features = vectorizer.fit_transform(sents)\n",
    "\n",
    "\n",
    "print('#sandy' in vectorizer.get_feature_names())\n",
    "print(features.toarray())\n",
    "print(vectorizer.get_feature_names())"
   ]
  },
  {
   "cell_type": "markdown",
   "metadata": {},
   "source": [
    "**Quesiton 10**. Given the data set of labeled tweets, you have to train a classification model and check the accuracy. Remember to first split the data into training and test. You should explore kNN classification, decision tree classification, Random Forest classification.\n",
    "\n",
    "**Question 11**. Train the so-called *Logistic regression classifier* and check its accuracy. Compare with the results from *Question 10*. The following lines of code will be useful to do it."
   ]
  },
  {
   "cell_type": "code",
   "execution_count": 46,
   "metadata": {},
   "outputs": [
    {
     "name": "stdout",
     "output_type": "stream",
     "text": [
      "Time for LogisticRegression fitting: 0.021\n",
      "Test Perf ACC: 0.988, AUC: 0.986\n"
     ]
    },
    {
     "name": "stderr",
     "output_type": "stream",
     "text": [
      "/anaconda3/lib/python3.7/site-packages/sklearn/linear_model/logistic.py:433: FutureWarning: Default solver will be changed to 'lbfgs' in 0.22. Specify a solver to silence this warning.\n",
      "  FutureWarning)\n"
     ]
    }
   ],
   "source": [
    "\"\"\"\n",
    "Step 3. Divide data into train and test \n",
    "\"\"\"\n",
    "from sklearn.model_selection import train_test_split\n",
    "X_train, X_test, y_train, y_test = train_test_split(features, labels, test_size=0.33, random_state=42) \n",
    "import time\n",
    "from sklearn.metrics import accuracy_score, roc_auc_score, auc\n",
    "from sklearn.linear_model import LogisticRegression\n",
    "from sklearn.ensemble import RandomForestClassifier\n",
    "clf = LogisticRegression()\n",
    "start_time = time.time()\n",
    "clf.fit(X_train, y_train)\n",
    "print('Time for %s fitting: %.3f' % ('LogisticRegression', time.time() - start_time))\n",
    "y_pred = clf.predict(X_test)\n",
    "accuracy = accuracy_score(y_test, y_pred)\n",
    "\n",
    "y_pred_prob = clf.predict_proba(X_test)[:, 1]\n",
    "auc = roc_auc_score(y_test, y_pred_prob)\n",
    "print('Test Perf ACC: %.3f, AUC: %.3f' %(accuracy, auc))"
   ]
  },
  {
   "cell_type": "code",
   "execution_count": 100,
   "metadata": {},
   "outputs": [],
   "source": [
    "from sklearn.neighbors import KNeighborsClassifier\n",
    "from sklearn.tree import DecisionTreeClassifier\n",
    "from sklearn.ensemble import RandomForestClassifier\n",
    "\n",
    "from sklearn.linear_model import LogisticRegression \n",
    "\n",
    "from sklearn.metrics import accuracy_score, roc_auc_score, auc\n",
    "from sklearn.model_selection import train_test_split\n",
    "X_train, X_test, y_train, y_test = train_test_split(features, labels, test_size=0.33, random_state=42)"
   ]
  },
  {
   "cell_type": "markdown",
   "metadata": {},
   "source": [
    "**Answer 10:** <br>\n",
    "Believe I've trained the 3 classification models of kNN, Decision Tree, and Random Forest. I've just left them simply at their default values with the exceptions of kNN I chose to use `k=10` and the random forest I tested using parameters that worked well in the previous lab. Funniest thing is that in the previous lab we had to train another classifier of our own choice and I luckily chose Random Forest. So I found the parameters in the commented out RFC constructor provided the best accuracy with the previous data. With this data, all three classifiers did an excellent job averaging at least 98% each."
   ]
  },
  {
   "cell_type": "code",
   "execution_count": 101,
   "metadata": {},
   "outputs": [
    {
     "name": "stdout",
     "output_type": "stream",
     "text": [
      "KNeighborsClassifier(algorithm='auto', leaf_size=30, metric='minkowski',\n",
      "           metric_params=None, n_jobs=None, n_neighbors=10, p=2,\n",
      "           weights='uniform')\n",
      "kNN Training data accuracy: 0.9843587069864442\n",
      "kNN Test data accuracy: 0.9880112834978844\n"
     ]
    }
   ],
   "source": [
    "## kNN\n",
    "k = 10\n",
    "predictor = KNeighborsClassifier(n_neighbors = k)\n",
    "predictor.fit(X_train, y_train);\n",
    "print(predictor)\n",
    "\n",
    "yhat_train = predictor.predict(X_train)\n",
    "print('kNN Training data accuracy:', accuracy_score(y_train, yhat_train))\n",
    "\n",
    "yhat = predictor.predict(X_test)\n",
    "print('kNN Test data accuracy:', accuracy_score(y_test, yhat))"
   ]
  },
  {
   "cell_type": "code",
   "execution_count": 102,
   "metadata": {},
   "outputs": [
    {
     "name": "stdout",
     "output_type": "stream",
     "text": [
      "DecisionTreeClassifier(class_weight=None, criterion='gini', max_depth=None,\n",
      "            max_features=None, max_leaf_nodes=None,\n",
      "            min_impurity_decrease=0.0, min_impurity_split=None,\n",
      "            min_samples_leaf=1, min_samples_split=2,\n",
      "            min_weight_fraction_leaf=0.0, presort=False, random_state=None,\n",
      "            splitter='best')\n",
      "DT Training data accuracy: 1.0\n",
      "DT Test data accuracy: 0.9858956276445698\n"
     ]
    }
   ],
   "source": [
    "# Decision Trees\n",
    "clf = DecisionTreeClassifier()\n",
    "clf.fit(X_train, y_train)\n",
    "print(clf)\n",
    "\n",
    "yhat_train = clf.predict(X_train)\n",
    "print('DT Training data accuracy:', accuracy_score(y_train, yhat_train))\n",
    "\n",
    "yhat = clf.predict(X_test)\n",
    "print('DT Test data accuracy:', accuracy_score(y_test, yhat))"
   ]
  },
  {
   "cell_type": "code",
   "execution_count": 103,
   "metadata": {},
   "outputs": [
    {
     "name": "stdout",
     "output_type": "stream",
     "text": [
      "RF Training data acccuracy: 0.9975669099756691\n",
      "RF Testing data acccuracy: 0.9887165021156559\n"
     ]
    },
    {
     "name": "stderr",
     "output_type": "stream",
     "text": [
      "/anaconda3/lib/python3.7/site-packages/sklearn/ensemble/forest.py:246: FutureWarning: The default value of n_estimators will change from 10 in version 0.20 to 100 in 0.22.\n",
      "  \"10 in version 0.20 to 100 in 0.22.\", FutureWarning)\n"
     ]
    }
   ],
   "source": [
    "# Random Forest\n",
    "#forest = RandomForestClassifier(50, 'entropy', 4, 5)\n",
    "forest = RandomForestClassifier()\n",
    "forest.fit(X_train, y_train)\n",
    "\n",
    "yhat_train = forest.predict(X_train)\n",
    "print('RF Training data acccuracy:', accuracy_score(y_train,yhat_train))\n",
    "\n",
    "yhat = forest.predict(X_test)\n",
    "print('RF Testing data acccuracy:', accuracy_score(y_test,yhat))"
   ]
  },
  {
   "cell_type": "markdown",
   "metadata": {},
   "source": [
    "**Answer 11:** <br>\n",
    "The Logistic Regression classifier used below results with an accuracy that is comparable to the above three classifiers. On avaerage it does the same as the Random Forest and kNN algorithm in terms of predicting test data with accuracy as high as 98.8%. "
   ]
  },
  {
   "cell_type": "code",
   "execution_count": 104,
   "metadata": {},
   "outputs": [
    {
     "name": "stdout",
     "output_type": "stream",
     "text": [
      "LR Training data accuracy: 0.9961765728189086\n",
      "Test Perf ACC: 0.988, AUC: 0.986\n"
     ]
    },
    {
     "name": "stderr",
     "output_type": "stream",
     "text": [
      "/anaconda3/lib/python3.7/site-packages/sklearn/linear_model/logistic.py:433: FutureWarning: Default solver will be changed to 'lbfgs' in 0.22. Specify a solver to silence this warning.\n",
      "  FutureWarning)\n"
     ]
    }
   ],
   "source": [
    "reg = LogisticRegression()\n",
    "reg.fit(X_train, y_train)\n",
    "\n",
    "yhat_train = reg.predict(X_train)\n",
    "print('LR Training data accuracy:', accuracy_score(y_train, yhat_train))\n",
    "\n",
    "y_pred = reg.predict(X_test)\n",
    "accuracy = accuracy_score(y_test, y_pred)\n",
    "\n",
    "y_pred_prob = reg.predict_proba(X_test)[:, 1]\n",
    "auc = roc_auc_score(y_test, y_pred_prob)\n",
    "print('Test Perf ACC: %.3f, AUC: %.3f' %(accuracy, auc))"
   ]
  },
  {
   "cell_type": "markdown",
   "metadata": {},
   "source": [
    "# Module 3. Extra Credit: Using API to Download Tweets (50 extra points)\n",
    "\n",
    "To run the following code you will need to install the `tweepy` package.\n",
    "\n",
    "* Create a twitter account if you do not already have one\n",
    "* Go to https://apps.twitter.com/ and log in with your twitter credentials.\n",
    "* Click 'Create New App'\n",
    "* Fill out the Name, Description, Website fields and agree the terms. Put in any website you want if you don't have one you want to use.\n",
    "* On the next page, click the 'Keys and Access Tokens' tab along the top, then scroll all the way down until you see the section 'Your Access Token\n",
    "* Click the button 'Create My Access Token'.\n",
    "* You will now copy four values below. These values are your 'Consumer Key (API Key)', your 'Consumer Secret (API Secret)', your 'Access token' and your 'Access token secret'. All four should now be visible on the 'Keys and Access Tokens' page. Set the variables corresponding to the API key, API secret, access token, and access secret. You will see code like the below:\n"
   ]
  },
  {
   "cell_type": "code",
   "execution_count": null,
   "metadata": {
    "collapsed": true
   },
   "outputs": [],
   "source": [
    "\n",
    "from tweepy import Stream\n",
    "from tweepy import OAuthHandler\n",
    "from tweepy.streaming import StreamListener\n",
    "import json, sys\n",
    "import codecs\n",
    "\n",
    "\n",
    "\n",
    "ckey = \"<Enter api key>\"\n",
    "csecret = \"<Enter api secret>\"\n",
    "atoken = \"<Enter your access token key here>\"\n",
    "asecret = \"<Enter your access token secret here>\"\n",
    "\n",
    "auth = OAuthHandler(ckey, csecret)\n",
    "auth.set_access_token(atoken, asecret)\n",
    "\n",
    "output = codecs.open('twitter_data.json', 'wb', encoding='utf-8')\n",
    "line_num = 0\n",
    "class CustomStreamListener(StreamListener):\n",
    "    def on_status(self, status):\n",
    "        print status.text\n",
    "\n",
    "    def on_data(self, data):\n",
    "        json_data = json.loads(data)\n",
    "        output.write(str(json_data))\n",
    "        output.write(\"\\n\")\n",
    "\n",
    "    def on_error(self, status_code):\n",
    "        print >> sys.stderr, 'Encountered error with status code:', status_code\n",
    "        return True # Don't kill the stream\n",
    "\n",
    "    def on_timeout(self):\n",
    "        print >> sys.stderr, 'Timeout...'\n",
    "        return True # Don't kill the stream\n",
    "\n",
    "\n"
   ]
  },
  {
   "cell_type": "markdown",
   "metadata": {},
   "source": [
    "The following line of code allows you to download the current stream of codes that contain word *basketball*."
   ]
  },
  {
   "cell_type": "code",
   "execution_count": null,
   "metadata": {
    "collapsed": true
   },
   "outputs": [],
   "source": [
    "twitterStream = Stream(auth, CustomStreamListener())\n",
    "twitterStream.filter(track=['basketball'])"
   ]
  },
  {
   "cell_type": "markdown",
   "metadata": {},
   "source": [
    "You can stop downloading by terminating the process (the stop button in Jupiter menu)\n",
    "\n",
    "Now you can also filter Tweets by locations by setting the parameters in filter.\n",
    "By setting the filter(locations = [-75.280291,39.867005,-74.955831,40.137959]), you will\n",
    "get all tweets from Philadelphia. To get bounding box for other areas, the klokantech's tool can\n",
    "be used. \n",
    "To learn more about Twitter Stream API parameters, please go to: \n",
    "    https://dev.twitter.com/streaming/overview/request-parameters \n",
    "    \n",
    "** Extra point Question**. Pick you favorite geographical region, keyword, or a hashtag and download at least 1,000 tweets. Perform any kind of exploratory or predictive data analysis that you find interesting and produce a 2-page report summarizing what you did and why and explaining what kind of results nd insights you obtained.\n",
    "\n"
   ]
  },
  {
   "cell_type": "code",
   "execution_count": null,
   "metadata": {
    "collapsed": true
   },
   "outputs": [],
   "source": []
  }
 ],
 "metadata": {
  "anaconda-cloud": {},
  "kernelspec": {
   "display_name": "Python 3",
   "language": "python",
   "name": "python3"
  },
  "language_info": {
   "codemirror_mode": {
    "name": "ipython",
    "version": 3
   },
   "file_extension": ".py",
   "mimetype": "text/x-python",
   "name": "python",
   "nbconvert_exporter": "python",
   "pygments_lexer": "ipython3",
   "version": "3.7.3"
  }
 },
 "nbformat": 4,
 "nbformat_minor": 1
}
